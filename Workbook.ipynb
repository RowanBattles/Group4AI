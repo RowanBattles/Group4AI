{
 "cells": [
  {
   "cell_type": "markdown",
   "metadata": {},
   "source": [
    "# First notebook"
   ]
  },
  {
   "cell_type": "code",
   "execution_count": 55,
   "metadata": {},
   "outputs": [],
   "source": [
    "import pandas as pd\n",
    "\n",
    "dfEindtoets = pd.read_excel('Data/eindtoets.xlsx')\n",
    "dfFivePoints = pd.read_csv('Data/restructured_fivepointstest.csv')"
   ]
  },
  {
   "cell_type": "code",
   "execution_count": 56,
   "metadata": {},
   "outputs": [
    {
     "data": {
      "text/html": [
       "<div>\n",
       "<style scoped>\n",
       "    .dataframe tbody tr th:only-of-type {\n",
       "        vertical-align: middle;\n",
       "    }\n",
       "\n",
       "    .dataframe tbody tr th {\n",
       "        vertical-align: top;\n",
       "    }\n",
       "\n",
       "    .dataframe thead th {\n",
       "        text-align: right;\n",
       "    }\n",
       "</style>\n",
       "<table border=\"1\" class=\"dataframe\">\n",
       "  <thead>\n",
       "    <tr style=\"text-align: right;\">\n",
       "      <th></th>\n",
       "      <th>student_id</th>\n",
       "      <th>patternsm</th>\n",
       "      <th>statuscl</th>\n",
       "      <th>numbercl</th>\n",
       "      <th>timestampcl</th>\n",
       "      <th>timestampload</th>\n",
       "      <th>timestampsm</th>\n",
       "      <th>primary_keys</th>\n",
       "    </tr>\n",
       "  </thead>\n",
       "  <tbody>\n",
       "    <tr>\n",
       "      <th>0</th>\n",
       "      <td>1</td>\n",
       "      <td>0,0,1,0,0,0,1,0</td>\n",
       "      <td>1,1</td>\n",
       "      <td>3,7</td>\n",
       "      <td>1583742751461,1583742751869</td>\n",
       "      <td>1.583743e+12</td>\n",
       "      <td>2520.0</td>\n",
       "      <td>[36, 37, 38, 39, 40, 41]</td>\n",
       "    </tr>\n",
       "    <tr>\n",
       "      <th>1</th>\n",
       "      <td>1</td>\n",
       "      <td>1,1,0,0,0,0,0,0</td>\n",
       "      <td>1,1</td>\n",
       "      <td>2,1</td>\n",
       "      <td>1583742753766,1583742754238</td>\n",
       "      <td>1.583743e+12</td>\n",
       "      <td>2576.0</td>\n",
       "      <td>[47, 48, 49, 50, 51, 52]</td>\n",
       "    </tr>\n",
       "    <tr>\n",
       "      <th>2</th>\n",
       "      <td>1</td>\n",
       "      <td>0,0,1,1,0,0,0,0</td>\n",
       "      <td>1,1</td>\n",
       "      <td>3,4</td>\n",
       "      <td>1583742756412,1583742756876</td>\n",
       "      <td>1.583743e+12</td>\n",
       "      <td>2541.0</td>\n",
       "      <td>[53, 54, 55, 56, 57, 58]</td>\n",
       "    </tr>\n",
       "    <tr>\n",
       "      <th>3</th>\n",
       "      <td>1</td>\n",
       "      <td>0,0,0,0,0,1,0,1</td>\n",
       "      <td>1,1</td>\n",
       "      <td>8,6</td>\n",
       "      <td>1583742759029,1583742759476</td>\n",
       "      <td>1.583743e+12</td>\n",
       "      <td>2540.0</td>\n",
       "      <td>[59, 60, 61, 62, 63, 64]</td>\n",
       "    </tr>\n",
       "    <tr>\n",
       "      <th>4</th>\n",
       "      <td>1</td>\n",
       "      <td>0,0,1,1,0,0,0,0</td>\n",
       "      <td>1,1</td>\n",
       "      <td>4,3</td>\n",
       "      <td>1583742761381,1583742762222</td>\n",
       "      <td>1.583743e+12</td>\n",
       "      <td>2384.0</td>\n",
       "      <td>[65, 66, 67, 68, 69, 70]</td>\n",
       "    </tr>\n",
       "  </tbody>\n",
       "</table>\n",
       "</div>"
      ],
      "text/plain": [
       "   student_id        patternsm statuscl numbercl                  timestampcl  \\\n",
       "0           1  0,0,1,0,0,0,1,0      1,1      3,7  1583742751461,1583742751869   \n",
       "1           1  1,1,0,0,0,0,0,0      1,1      2,1  1583742753766,1583742754238   \n",
       "2           1  0,0,1,1,0,0,0,0      1,1      3,4  1583742756412,1583742756876   \n",
       "3           1  0,0,0,0,0,1,0,1      1,1      8,6  1583742759029,1583742759476   \n",
       "4           1  0,0,1,1,0,0,0,0      1,1      4,3  1583742761381,1583742762222   \n",
       "\n",
       "   timestampload  timestampsm              primary_keys  \n",
       "0   1.583743e+12       2520.0  [36, 37, 38, 39, 40, 41]  \n",
       "1   1.583743e+12       2576.0  [47, 48, 49, 50, 51, 52]  \n",
       "2   1.583743e+12       2541.0  [53, 54, 55, 56, 57, 58]  \n",
       "3   1.583743e+12       2540.0  [59, 60, 61, 62, 63, 64]  \n",
       "4   1.583743e+12       2384.0  [65, 66, 67, 68, 69, 70]  "
      ]
     },
     "execution_count": 56,
     "metadata": {},
     "output_type": "execute_result"
    }
   ],
   "source": [
    "# Drop column Unnamed\n",
    "dfFivePoints = dfFivePoints.drop('Unnamed: 0', axis=1)\n",
    "\n",
    "dfFivePoints.head()"
   ]
  },
  {
   "cell_type": "code",
   "execution_count": 57,
   "metadata": {},
   "outputs": [
    {
     "name": "stdout",
     "output_type": "stream",
     "text": [
      "Amount of unique student id in eindtoets: 4550\n"
     ]
    }
   ],
   "source": [
    "# Amount unique student id\n",
    "print('Amount of unique student id in eindtoets:', len(dfFivePoints['student_id'].unique()))"
   ]
  },
  {
   "cell_type": "code",
   "execution_count": 58,
   "metadata": {},
   "outputs": [
    {
     "name": "stdout",
     "output_type": "stream",
     "text": [
      "      idll_vo3lv  cito   school  gender\n",
      "1              3   518  vmbo kl       1\n",
      "4              6   524  vmbo bl       0\n",
      "6              8   529  vmbo bl       1\n",
      "9             11   533  vmbo kl       0\n",
      "11            13   534  vmbo kl       0\n",
      "...          ...   ...      ...     ...\n",
      "4227        9638   549      vwo       1\n",
      "4228        9640   543      vwo       0\n",
      "4231        9649   543      vwo       1\n",
      "4232        9656   543      vwo       0\n",
      "4234        9663   545      vwo       0\n",
      "\n",
      "[2214 rows x 4 columns]\n"
     ]
    }
   ],
   "source": [
    "# Cleaning data\n",
    "dfEindtoets['cito'] = dfEindtoets['cito'].replace('', pd.NA).astype('Int64')\n",
    "dfEindtoets['schooljaar'] = dfEindtoets['schooljaar'].replace('', pd.NA)\n",
    "dfEindtoets['gender'] = dfEindtoets['gender'].replace('', pd.NA).astype('Int64')\n",
    "\n",
    "# Filtering rows\n",
    "filtered_df = dfEindtoets.dropna(subset=['cito', 'school', 'gender'])\n",
    "\n",
    "# Output\n",
    "print(filtered_df[['idll_vo3lv', 'cito','school', 'gender']])"
   ]
  },
  {
   "cell_type": "code",
   "execution_count": 72,
   "metadata": {},
   "outputs": [
    {
     "data": {
      "text/html": [
       "<div>\n",
       "<style scoped>\n",
       "    .dataframe tbody tr th:only-of-type {\n",
       "        vertical-align: middle;\n",
       "    }\n",
       "\n",
       "    .dataframe tbody tr th {\n",
       "        vertical-align: top;\n",
       "    }\n",
       "\n",
       "    .dataframe thead th {\n",
       "        text-align: right;\n",
       "    }\n",
       "</style>\n",
       "<table border=\"1\" class=\"dataframe\">\n",
       "  <thead>\n",
       "    <tr style=\"text-align: right;\">\n",
       "      <th></th>\n",
       "      <th>student_id</th>\n",
       "      <th>cito</th>\n",
       "      <th>school</th>\n",
       "    </tr>\n",
       "  </thead>\n",
       "  <tbody>\n",
       "    <tr>\n",
       "      <th>1</th>\n",
       "      <td>3</td>\n",
       "      <td>518</td>\n",
       "      <td>vmbo kl</td>\n",
       "    </tr>\n",
       "    <tr>\n",
       "      <th>4</th>\n",
       "      <td>6</td>\n",
       "      <td>524</td>\n",
       "      <td>vmbo bl</td>\n",
       "    </tr>\n",
       "    <tr>\n",
       "      <th>6</th>\n",
       "      <td>8</td>\n",
       "      <td>529</td>\n",
       "      <td>vmbo bl</td>\n",
       "    </tr>\n",
       "    <tr>\n",
       "      <th>9</th>\n",
       "      <td>11</td>\n",
       "      <td>533</td>\n",
       "      <td>vmbo kl</td>\n",
       "    </tr>\n",
       "    <tr>\n",
       "      <th>11</th>\n",
       "      <td>13</td>\n",
       "      <td>534</td>\n",
       "      <td>vmbo kl</td>\n",
       "    </tr>\n",
       "  </tbody>\n",
       "</table>\n",
       "</div>"
      ],
      "text/plain": [
       "    student_id  cito   school\n",
       "1            3   518  vmbo kl\n",
       "4            6   524  vmbo bl\n",
       "6            8   529  vmbo bl\n",
       "9           11   533  vmbo kl\n",
       "11          13   534  vmbo kl"
      ]
     },
     "execution_count": 72,
     "metadata": {},
     "output_type": "execute_result"
    }
   ],
   "source": [
    "filtered_df.head()\n",
    "\n",
    "# Use idll_vo3lv cito and school\n",
    "studentdf = filtered_df[['idll_vo3lv', 'cito', 'school']]\n",
    "\n",
    "# Rename idll_vo3lv to student_id\n",
    "studentdf = studentdf.rename(columns={'idll_vo3lv': 'student_id'})\n",
    "\n",
    "studentdf.head()"
   ]
  }
 ],
 "metadata": {
  "kernelspec": {
   "display_name": "Python 3",
   "language": "python",
   "name": "python3"
  },
  "language_info": {
   "codemirror_mode": {
    "name": "ipython",
    "version": 3
   },
   "file_extension": ".py",
   "mimetype": "text/x-python",
   "name": "python",
   "nbconvert_exporter": "python",
   "pygments_lexer": "ipython3",
   "version": "3.11.0"
  }
 },
 "nbformat": 4,
 "nbformat_minor": 2
}
