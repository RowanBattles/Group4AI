{
 "cells": [
  {
   "cell_type": "code",
   "execution_count": 12,
   "metadata": {},
   "outputs": [],
   "source": [
    "import pandas as pd\n",
    "import matplotlib.pyplot as plt\n",
    "import seaborn as sns"
   ]
  },
  {
   "cell_type": "code",
   "execution_count": 13,
   "metadata": {},
   "outputs": [],
   "source": [
    "file = \"Data\\\\fivepoints.csv\"\n",
    "df = pd.read_csv(file, sep=';', low_memory=False, encoding='ISO-8859-1')"
   ]
  },
  {
   "cell_type": "code",
   "execution_count": 14,
   "metadata": {},
   "outputs": [
    {
     "data": {
      "text/html": [
       "<div>\n",
       "<style scoped>\n",
       "    .dataframe tbody tr th:only-of-type {\n",
       "        vertical-align: middle;\n",
       "    }\n",
       "\n",
       "    .dataframe tbody tr th {\n",
       "        vertical-align: top;\n",
       "    }\n",
       "\n",
       "    .dataframe thead th {\n",
       "        text-align: right;\n",
       "    }\n",
       "</style>\n",
       "<table border=\"1\" class=\"dataframe\">\n",
       "  <thead>\n",
       "    <tr style=\"text-align: right;\">\n",
       "      <th></th>\n",
       "      <th>primary</th>\n",
       "      <th>idll_vo3lv</th>\n",
       "      <th>name</th>\n",
       "      <th>value</th>\n",
       "    </tr>\n",
       "  </thead>\n",
       "  <tbody>\n",
       "    <tr>\n",
       "      <th>542356</th>\n",
       "      <td>542753</td>\n",
       "      <td>2336</td>\n",
       "      <td>timestampcl</td>\n",
       "      <td>1599730550696,1599730551440</td>\n",
       "    </tr>\n",
       "    <tr>\n",
       "      <th>920697</th>\n",
       "      <td>921094</td>\n",
       "      <td>8440</td>\n",
       "      <td>numbercl</td>\n",
       "      <td>1,6</td>\n",
       "    </tr>\n",
       "    <tr>\n",
       "      <th>522199</th>\n",
       "      <td>522596</td>\n",
       "      <td>8538</td>\n",
       "      <td>timestampsm</td>\n",
       "      <td>5328</td>\n",
       "    </tr>\n",
       "    <tr>\n",
       "      <th>207986</th>\n",
       "      <td>208047</td>\n",
       "      <td>8986</td>\n",
       "      <td>statuscl</td>\n",
       "      <td>1,1</td>\n",
       "    </tr>\n",
       "    <tr>\n",
       "      <th>195189</th>\n",
       "      <td>195250</td>\n",
       "      <td>8337</td>\n",
       "      <td>numbercl</td>\n",
       "      <td>1,6,3</td>\n",
       "    </tr>\n",
       "    <tr>\n",
       "      <th>784966</th>\n",
       "      <td>785363</td>\n",
       "      <td>9329</td>\n",
       "      <td>timestampcl</td>\n",
       "      <td>1601368934523,1601368934867</td>\n",
       "    </tr>\n",
       "    <tr>\n",
       "      <th>930744</th>\n",
       "      <td>931141</td>\n",
       "      <td>9205</td>\n",
       "      <td>patternsm</td>\n",
       "      <td>0,0,0,1,0,0,0,0</td>\n",
       "    </tr>\n",
       "    <tr>\n",
       "      <th>862581</th>\n",
       "      <td>862978</td>\n",
       "      <td>9986</td>\n",
       "      <td>numbercl</td>\n",
       "      <td>8,2,3,1</td>\n",
       "    </tr>\n",
       "    <tr>\n",
       "      <th>405148</th>\n",
       "      <td>405545</td>\n",
       "      <td>1323</td>\n",
       "      <td>timestampcl</td>\n",
       "      <td>1593427248790,1593427249222,1593427249838,1593...</td>\n",
       "    </tr>\n",
       "    <tr>\n",
       "      <th>1116098</th>\n",
       "      <td>1116495</td>\n",
       "      <td>8563</td>\n",
       "      <td>statuscl</td>\n",
       "      <td>1,1,1</td>\n",
       "    </tr>\n",
       "  </tbody>\n",
       "</table>\n",
       "</div>"
      ],
      "text/plain": [
       "         primary  idll_vo3lv         name  \\\n",
       "542356    542753        2336  timestampcl   \n",
       "920697    921094        8440     numbercl   \n",
       "522199    522596        8538  timestampsm   \n",
       "207986    208047        8986     statuscl   \n",
       "195189    195250        8337     numbercl   \n",
       "784966    785363        9329  timestampcl   \n",
       "930744    931141        9205    patternsm   \n",
       "862581    862978        9986     numbercl   \n",
       "405148    405545        1323  timestampcl   \n",
       "1116098  1116495        8563     statuscl   \n",
       "\n",
       "                                                     value  \n",
       "542356                         1599730550696,1599730551440  \n",
       "920697                                                 1,6  \n",
       "522199                                                5328  \n",
       "207986                                                 1,1  \n",
       "195189                                               1,6,3  \n",
       "784966                         1601368934523,1601368934867  \n",
       "930744                                     0,0,0,1,0,0,0,0  \n",
       "862581                                             8,2,3,1  \n",
       "405148   1593427248790,1593427249222,1593427249838,1593...  \n",
       "1116098                                              1,1,1  "
      ]
     },
     "execution_count": 14,
     "metadata": {},
     "output_type": "execute_result"
    }
   ],
   "source": [
    "df.sample(10)"
   ]
  },
  {
   "cell_type": "markdown",
   "metadata": {},
   "source": [
    "The dataset is not structured in a way where each row represents a single shape a student has made. In this section, we will analyze the necessary elements to restructure the dataset to the form we will need."
   ]
  },
  {
   "cell_type": "code",
   "execution_count": 16,
   "metadata": {},
   "outputs": [
    {
     "name": "stdout",
     "output_type": "stream",
     "text": [
      "All values in 'primary' are different.\n"
     ]
    }
   ],
   "source": [
    "if df['primary'].nunique() == df.shape[0]:\n",
    "    print(\"All values in 'primary' are different.\")"
   ]
  },
  {
   "cell_type": "code",
   "execution_count": 17,
   "metadata": {},
   "outputs": [
    {
     "name": "stdout",
     "output_type": "stream",
     "text": [
      "no\n"
     ]
    }
   ],
   "source": [
    "if df['idll_vo3lv'].nunique() == df.shape[0]:\n",
    "    print(\"All values in 'student id' are different.\")\n",
    "else:\n",
    "    print(\"no\")"
   ]
  },
  {
   "cell_type": "markdown",
   "metadata": {},
   "source": [
    "From this result, we can conclude the column 'primary' represents the primary key and thus they are different in each row, and 'idll_vo3lv' represents the student's id and thus they are not different in each row."
   ]
  },
  {
   "cell_type": "code",
   "execution_count": 18,
   "metadata": {},
   "outputs": [
    {
     "data": {
      "text/plain": [
       "primary        int64\n",
       "idll_vo3lv     int64\n",
       "name          object\n",
       "value         object\n",
       "dtype: object"
      ]
     },
     "execution_count": 18,
     "metadata": {},
     "output_type": "execute_result"
    }
   ],
   "source": [
    "df.dtypes"
   ]
  },
  {
   "cell_type": "code",
   "execution_count": 20,
   "metadata": {},
   "outputs": [
    {
     "data": {
      "text/plain": [
       "array(['patternsm', 'timestampsm', 'statuscl', 'numbercl', 'timestampcl',\n",
       "       'timestampload'], dtype=object)"
      ]
     },
     "execution_count": 20,
     "metadata": {},
     "output_type": "execute_result"
    }
   ],
   "source": [
    "df['name'].unique()"
   ]
  },
  {
   "cell_type": "markdown",
   "metadata": {},
   "source": [
    "There are 5 unique values in the column 'name'. These values are categories that represent a single shape that a student has made, and thus they will represent the new columns in the restructured dataset. The columns of the restructured dataset will look like this:"
   ]
  },
  {
   "cell_type": "code",
   "execution_count": null,
   "metadata": {},
   "outputs": [],
   "source": [
    "restructured_columns = {\n",
    "    'student_id': [],\n",
    "    'patternsm': [],\n",
    "    'statuscl': [],\n",
    "    'numbercl': [],\n",
    "    'timestampcl': [],\n",
    "    'timestampload': [],\n",
    "    'timestampsm': [],\n",
    "    'primary_keys': []\n",
    "}"
   ]
  },
  {
   "cell_type": "markdown",
   "metadata": {},
   "source": [
    "In order to improve the speed of my restructuring algorithm, we have sorted the the dataset by the student id in an ascending order, so the test results of each students will be grouped closer to each other, and the algorithm does not have to iterate the whole dataset per loop turn."
   ]
  },
  {
   "cell_type": "code",
   "execution_count": 21,
   "metadata": {},
   "outputs": [],
   "source": [
    "sorted_df = df.sort_values(by=['idll_vo3lv'], ascending=True)"
   ]
  },
  {
   "cell_type": "markdown",
   "metadata": {},
   "source": [
    "The code block below is the algorithm we created to restructure the dataset."
   ]
  },
  {
   "cell_type": "code",
   "execution_count": 22,
   "metadata": {},
   "outputs": [],
   "source": [
    "student_ids = df['idll_vo3lv'].unique() \n",
    "\n",
    "for studentid in student_ids:\n",
    "    results = df[df['idll_vo3lv'] == studentid]   \n",
    "    sorted_results = results.sort_values(by=['primary'], ascending=True)\n",
    "\n",
    "    # Values\n",
    "    primary_keys = []\n",
    "    patternsm = None\n",
    "    statuscl = None\n",
    "    numbercl = None\n",
    "    timestampcl = None\n",
    "    timestampload = None\n",
    "    timestampsm = None\n",
    "    i = 0 \n",
    "\n",
    "    for _, row in sorted_results.iterrows():\n",
    "\n",
    "        if row['name'] == 'patternsm':\n",
    "            patternsm = row['value']\n",
    "        elif row['name'] == 'statuscl':\n",
    "            statuscl = row['value']\n",
    "        elif row['name'] == 'numbercl':\n",
    "            numbercl = row['value']\n",
    "        elif row['name'] == 'timestampcl':\n",
    "            timestampcl = row['value']\n",
    "        elif row['name'] == 'timestampload':\n",
    "            timestampload = row['value']\n",
    "        elif row['name'] == 'timestampsm':\n",
    "            timestampsm = row['value']\n",
    "        else: \n",
    "            print(f\"{row['primary']} has {row['name']}, and it failed\")\n",
    "        \n",
    "        primary_keys.append(row['primary'])\n",
    "\n",
    "        # When complete, add the values to the column\n",
    "        if i == 5:\n",
    "            new_row = {\n",
    "                'student_id': studentid,\n",
    "                'patternsm': patternsm,\n",
    "                'statuscl': statuscl,\n",
    "                'numbercl': numbercl,\n",
    "                'timestampcl': timestampcl,\n",
    "                'timestampload': timestampload,\n",
    "                'timestampsm': timestampsm,\n",
    "                'primary_keys': primary_keys\n",
    "            }\n",
    "            for key, value in new_row.items():\n",
    "                restructured_columns[key].append(value)\n",
    "            primary_keys = []\n",
    "            i = 0   \n",
    "        else:\n",
    "            i += 1         \n",
    "\n",
    "restructured_df = pd.DataFrame(restructured_columns)\n",
    "# restructured_df.to_csv(\"Data\\\\restructured_fivepointstest.csv\")"
   ]
  }
 ],
 "metadata": {
  "kernelspec": {
   "display_name": "Python 3",
   "language": "python",
   "name": "python3"
  },
  "language_info": {
   "codemirror_mode": {
    "name": "ipython",
    "version": 3
   },
   "file_extension": ".py",
   "mimetype": "text/x-python",
   "name": "python",
   "nbconvert_exporter": "python",
   "pygments_lexer": "ipython3",
   "version": "3.11.8"
  }
 },
 "nbformat": 4,
 "nbformat_minor": 2
}
