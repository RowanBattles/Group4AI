{
 "cells": [
  {
   "cell_type": "code",
   "execution_count": 3,
   "metadata": {},
   "outputs": [],
   "source": [
    "import pandas as pd\n",
    "import matplotlib.pyplot as plt\n",
    "import seaborn as sns"
   ]
  },
  {
   "cell_type": "code",
   "execution_count": 4,
   "metadata": {},
   "outputs": [],
   "source": [
    "file = \"Data\\\\fivepoints.csv\"\n",
    "df = pd.read_csv(file, sep=';', low_memory=False, encoding='ISO-8859-1')"
   ]
  },
  {
   "cell_type": "code",
   "execution_count": 5,
   "metadata": {},
   "outputs": [
    {
     "name": "stdout",
     "output_type": "stream",
     "text": [
      "All values in 'primary' are different.\n"
     ]
    }
   ],
   "source": [
    "if df['primary'].nunique() == df.shape[0]:\n",
    "    print(\"All values in 'primary' are different.\")"
   ]
  },
  {
   "cell_type": "code",
   "execution_count": 6,
   "metadata": {},
   "outputs": [
    {
     "name": "stdout",
     "output_type": "stream",
     "text": [
      "no\n"
     ]
    }
   ],
   "source": [
    "if df['idll_vo3lv'].nunique() == df.shape[0]:\n",
    "    print(\"All values in 'student id' are different.\")\n",
    "else:\n",
    "    print(\"no\")"
   ]
  },
  {
   "cell_type": "code",
   "execution_count": 7,
   "metadata": {},
   "outputs": [
    {
     "data": {
      "text/plain": [
       "primary        int64\n",
       "idll_vo3lv     int64\n",
       "name          object\n",
       "value         object\n",
       "dtype: object"
      ]
     },
     "execution_count": 7,
     "metadata": {},
     "output_type": "execute_result"
    }
   ],
   "source": [
    "df.dtypes"
   ]
  },
  {
   "cell_type": "markdown",
   "metadata": {},
   "source": [
    "Primary Key: unique identified for a single test\n",
    "idll_vo3lv: student ID"
   ]
  },
  {
   "cell_type": "code",
   "execution_count": 8,
   "metadata": {},
   "outputs": [],
   "source": [
    "student_ids = df['idll_vo3lv'].unique()"
   ]
  },
  {
   "cell_type": "code",
   "execution_count": 9,
   "metadata": {},
   "outputs": [
    {
     "data": {
      "text/plain": [
       "array(['patternsm', 'timestampsm', 'statuscl', 'numbercl', 'timestampcl',\n",
       "       'timestampload'], dtype=object)"
      ]
     },
     "execution_count": 9,
     "metadata": {},
     "output_type": "execute_result"
    }
   ],
   "source": [
    "df['name'].unique()"
   ]
  },
  {
   "cell_type": "code",
   "execution_count": 10,
   "metadata": {},
   "outputs": [],
   "source": [
    "sorted_df = df.sort_values(by=['idll_vo3lv'], ascending=True)"
   ]
  },
  {
   "cell_type": "code",
   "execution_count": 11,
   "metadata": {},
   "outputs": [],
   "source": [
    "restructured_columns = {\n",
    "    'student_id': [],\n",
    "    'patternsm': [],\n",
    "    'statuscl': [],\n",
    "    'numbercl': [],\n",
    "    'timestampcl': [],\n",
    "    'timestampload': [],\n",
    "    'timestampsm': [],\n",
    "    'primary_keys': []\n",
    "}\n",
    "\n",
    "for studentid in student_ids:\n",
    "    results = df[df['idll_vo3lv'] == studentid]\n",
    "    sorted_results = results.sort_values(by=['primary'], ascending=True)\n",
    "\n",
    "    # Values\n",
    "    primary_keys = []\n",
    "    patternsm = None\n",
    "    statuscl = None\n",
    "    numbercl = None\n",
    "    timestampcl = None\n",
    "    timestampload = None\n",
    "    timestampsm = None\n",
    "\n",
    "    \n",
    "    i = 0 \n",
    "\n",
    "    for _, row in sorted_results.iterrows():\n",
    "\n",
    "        if row['name'] == 'patternsm':\n",
    "            patternsm = row['value']\n",
    "        elif row['name'] == 'statuscl':\n",
    "            statuscl = row['value']\n",
    "        elif row['name'] == 'numbercl':\n",
    "            numbercl = row['value']\n",
    "        elif row['name'] == 'timestampcl':\n",
    "            timestampcl = row['value']\n",
    "        elif row['name'] == 'timestampload':\n",
    "            timestampload = row['value']\n",
    "        elif row['name'] == 'timestampsm':\n",
    "            timestampsm = row['value']\n",
    "        else: \n",
    "            print(f\"{row['primary']} has {row['name']}, and it failed\")\n",
    "\n",
    "        # When complete, add the values to the column\n",
    "        if i == 5:\n",
    "            restructured_columns['student_id'].append(studentid)\n",
    "            restructured_columns['patternsm'].append(patternsm)\n",
    "            restructured_columns['statuscl'].append(statuscl)\n",
    "            restructured_columns['numbercl'].append(numbercl)\n",
    "            restructured_columns['timestampcl'].append(timestampcl)\n",
    "            restructured_columns['timestampload'].append(timestampload)\n",
    "            restructured_columns['timestampsm'].append(timestampsm)\n",
    "            restructured_columns['primary_keys'].append(primary_keys)\n",
    "            i == 0\n",
    "        \n",
    "        primary_keys.append(row['primary'])\n",
    "        i += 1\n",
    "\n",
    "\n",
    "restructured_df = pd.DataFrame(restructured_columns)\n",
    "restructured_df.to_csv(\"Data\\sortedfivepointtest.csv\")"
   ]
  }
 ],
 "metadata": {
  "kernelspec": {
   "display_name": "Python 3",
   "language": "python",
   "name": "python3"
  },
  "language_info": {
   "codemirror_mode": {
    "name": "ipython",
    "version": 3
   },
   "file_extension": ".py",
   "mimetype": "text/x-python",
   "name": "python",
   "nbconvert_exporter": "python",
   "pygments_lexer": "ipython3",
   "version": "3.11.8"
  }
 },
 "nbformat": 4,
 "nbformat_minor": 2
}
