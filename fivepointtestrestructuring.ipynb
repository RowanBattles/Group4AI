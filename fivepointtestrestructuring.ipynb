{
 "cells": [
  {
   "cell_type": "code",
   "execution_count": 227,
   "metadata": {},
   "outputs": [],
   "source": [
    "import pandas as pd\n",
    "import matplotlib.pyplot as plt\n",
    "import seaborn as sns"
   ]
  },
  {
   "cell_type": "code",
   "execution_count": 228,
   "metadata": {},
   "outputs": [],
   "source": [
    "file = \"Data\\\\fivepoints.csv\"\n",
    "df = pd.read_csv(file, sep=';', low_memory=False, encoding='ISO-8859-1')"
   ]
  },
  {
   "cell_type": "code",
   "execution_count": 229,
   "metadata": {},
   "outputs": [
    {
     "name": "stdout",
     "output_type": "stream",
     "text": [
      "All values in 'primary' are different.\n"
     ]
    }
   ],
   "source": [
    "if df['primary'].nunique() == df.shape[0]:\n",
    "    print(\"All values in 'primary' are different.\")"
   ]
  },
  {
   "cell_type": "code",
   "execution_count": 230,
   "metadata": {},
   "outputs": [
    {
     "name": "stdout",
     "output_type": "stream",
     "text": [
      "no\n"
     ]
    }
   ],
   "source": [
    "if df['idll_vo3lv'].nunique() == df.shape[0]:\n",
    "    print(\"All values in 'student id' are different.\")\n",
    "else:\n",
    "    print(\"no\")"
   ]
  },
  {
   "cell_type": "code",
   "execution_count": 231,
   "metadata": {},
   "outputs": [
    {
     "data": {
      "text/plain": [
       "primary        int64\n",
       "idll_vo3lv     int64\n",
       "name          object\n",
       "value         object\n",
       "dtype: object"
      ]
     },
     "execution_count": 231,
     "metadata": {},
     "output_type": "execute_result"
    }
   ],
   "source": [
    "df.dtypes"
   ]
  },
  {
   "cell_type": "markdown",
   "metadata": {},
   "source": [
    "Primary Key: unique identified for a single test\n",
    "idll_vo3lv: student ID"
   ]
  },
  {
   "cell_type": "code",
   "execution_count": 232,
   "metadata": {},
   "outputs": [],
   "source": [
    "student_ids = df['idll_vo3lv'].unique()"
   ]
  },
  {
   "cell_type": "code",
   "execution_count": 233,
   "metadata": {},
   "outputs": [
    {
     "data": {
      "text/plain": [
       "array(['patternsm', 'timestampsm', 'statuscl', 'numbercl', 'timestampcl',\n",
       "       'timestampload'], dtype=object)"
      ]
     },
     "execution_count": 233,
     "metadata": {},
     "output_type": "execute_result"
    }
   ],
   "source": [
    "df['name'].unique()"
   ]
  },
  {
   "cell_type": "code",
   "execution_count": 234,
   "metadata": {},
   "outputs": [],
   "source": [
    "sorted_df = df.sort_values(by=['idll_vo3lv'], ascending=True)"
   ]
  },
  {
   "cell_type": "code",
   "execution_count": 235,
   "metadata": {},
   "outputs": [],
   "source": [
    "restructured_columns = {\n",
    "    'student_id': [],\n",
    "    'patternsm': [],\n",
    "    'statuscl': [],\n",
    "    'numbercl': [],\n",
    "    'timestampcl': [],\n",
    "    'timestampload': [],\n",
    "    'timestampsm': [],\n",
    "    'primary_keys': []\n",
    "}\n",
    "\n",
    "for studentid in student_ids:\n",
    "    results = df[df['idll_vo3lv'] == studentid]   \n",
    "    sorted_results = results.sort_values(by=['primary'], ascending=True)\n",
    "\n",
    "    # Values\n",
    "    primary_keys = []\n",
    "    patternsm = None\n",
    "    statuscl = None\n",
    "    numbercl = None\n",
    "    timestampcl = None\n",
    "    timestampload = None\n",
    "    timestampsm = None\n",
    "    i = 0 \n",
    "\n",
    "    for _, row in sorted_results.iterrows():\n",
    "\n",
    "        if row['name'] == 'patternsm':\n",
    "            patternsm = row['value']\n",
    "        elif row['name'] == 'statuscl':\n",
    "            statuscl = row['value']\n",
    "        elif row['name'] == 'numbercl':\n",
    "            numbercl = row['value']\n",
    "        elif row['name'] == 'timestampcl':\n",
    "            timestampcl = row['value']\n",
    "        elif row['name'] == 'timestampload':\n",
    "            timestampload = row['value']\n",
    "        elif row['name'] == 'timestampsm':\n",
    "            timestampsm = row['value']\n",
    "        else: \n",
    "            print(f\"{row['primary']} has {row['name']}, and it failed\")\n",
    "        \n",
    "        primary_keys.append(row['primary'])\n",
    "\n",
    "        # When complete, add the values to the column\n",
    "        if i == 5:\n",
    "            new_row = {\n",
    "                'student_id': studentid,\n",
    "                'patternsm': patternsm,\n",
    "                'statuscl': statuscl,\n",
    "                'numbercl': numbercl,\n",
    "                'timestampcl': timestampcl,\n",
    "                'timestampload': timestampload,\n",
    "                'timestampsm': timestampsm,\n",
    "                'primary_keys': primary_keys\n",
    "            }\n",
    "            for key, value in new_row.items():\n",
    "                restructured_columns[key].append(value)\n",
    "            primary_keys = []\n",
    "            i = 0            \n",
    "        i += 1\n",
    "\n",
    "\n",
    "restructured_df = pd.DataFrame(restructured_columns)\n",
    "restructured_df.to_csv(\"Data\\\\restructured_fivepointstest.csv\")"
   ]
  }
 ],
 "metadata": {
  "kernelspec": {
   "display_name": "Python 3",
   "language": "python",
   "name": "python3"
  },
  "language_info": {
   "codemirror_mode": {
    "name": "ipython",
    "version": 3
   },
   "file_extension": ".py",
   "mimetype": "text/x-python",
   "name": "python",
   "nbconvert_exporter": "python",
   "pygments_lexer": "ipython3",
   "version": "3.11.8"
  }
 },
 "nbformat": 4,
 "nbformat_minor": 2
}
