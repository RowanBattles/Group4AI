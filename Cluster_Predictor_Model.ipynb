{
 "cells": [
  {
   "cell_type": "markdown",
   "metadata": {},
   "source": [
    "# Introduction\n",
    "\n",
    "This segment of the project aims to develop a machine learning model to predict clusters. The nature of the problem is a classification problem and our target variable is 'Cluster'.\n",
    "\n",
    "During our lectures, we have identified several machine learning algorithms that are particularly effective for classification problems:\n",
    "\n",
    "1. **K-Nearest Neighbors (KNN)**\n",
    "2. **Decision Trees**\n",
    "3. **Support Vector Machines (SVM)**\n",
    "\n",
    "We will begin by implementing these three algorithms with their default settings to predict the clusters. This initial step will allow us to evaluate their performance and determine the next course of action based on the outcomes.\n"
   ]
  },
  {
   "cell_type": "markdown",
   "metadata": {},
   "source": [
    "# Import Libraries and Dataset\n",
    "\n",
    "First, we'll import the necessary libraries and load the dataset."
   ]
  },
  {
   "cell_type": "code",
   "execution_count": 85,
   "metadata": {},
   "outputs": [],
   "source": [
    "import pandas as pd\n",
    "import numpy as np\n",
    "from sklearn.model_selection import train_test_split\n",
    "from sklearn.neighbors import KNeighborsClassifier\n",
    "from sklearn.tree import DecisionTreeClassifier\n",
    "from sklearn.svm import SVC\n",
    "from sklearn.metrics import accuracy_score, classification_report, confusion_matrix\n",
    "# supress the warning\n",
    "import warnings\n",
    "warnings.filterwarnings(\"ignore\")"
   ]
  },
  {
   "cell_type": "code",
   "execution_count": 86,
   "metadata": {},
   "outputs": [],
   "source": [
    "df = pd.read_csv('5dots\\dataset_with_clusters.csv')"
   ]
  },
  {
   "cell_type": "code",
   "execution_count": 87,
   "metadata": {},
   "outputs": [
    {
     "data": {
      "text/html": [
       "<div>\n",
       "<style scoped>\n",
       "    .dataframe tbody tr th:only-of-type {\n",
       "        vertical-align: middle;\n",
       "    }\n",
       "\n",
       "    .dataframe tbody tr th {\n",
       "        vertical-align: top;\n",
       "    }\n",
       "\n",
       "    .dataframe thead th {\n",
       "        text-align: right;\n",
       "    }\n",
       "</style>\n",
       "<table border=\"1\" class=\"dataframe\">\n",
       "  <thead>\n",
       "    <tr style=\"text-align: right;\">\n",
       "      <th></th>\n",
       "      <th>pauses</th>\n",
       "      <th>unique_patterns_count</th>\n",
       "      <th>total_values_count</th>\n",
       "      <th>duplicates</th>\n",
       "      <th>empty_submissions</th>\n",
       "      <th>Box_1_Submission</th>\n",
       "      <th>Box_2_Submission</th>\n",
       "      <th>Box_3_Submission</th>\n",
       "      <th>Box_4_Submission</th>\n",
       "      <th>Box_5_Submission</th>\n",
       "      <th>...</th>\n",
       "      <th>Box_10_Timegap</th>\n",
       "      <th>Box_11_Timegap</th>\n",
       "      <th>Box_12_Timegap</th>\n",
       "      <th>Box_13_Timegap</th>\n",
       "      <th>Box_14_Timegap</th>\n",
       "      <th>Box_15_Timegap</th>\n",
       "      <th>Box_16_Timegap</th>\n",
       "      <th>Box_17_Timegap</th>\n",
       "      <th>Box_18_Timegap</th>\n",
       "      <th>Cluster</th>\n",
       "    </tr>\n",
       "  </thead>\n",
       "  <tbody>\n",
       "    <tr>\n",
       "      <th>0</th>\n",
       "      <td>1</td>\n",
       "      <td>4.0</td>\n",
       "      <td>5.0</td>\n",
       "      <td>1.0</td>\n",
       "      <td>0.0</td>\n",
       "      <td>3.0</td>\n",
       "      <td>2.0</td>\n",
       "      <td>0.0</td>\n",
       "      <td>0.0</td>\n",
       "      <td>0.0</td>\n",
       "      <td>...</td>\n",
       "      <td>10000.0</td>\n",
       "      <td>10000.0</td>\n",
       "      <td>10000.0</td>\n",
       "      <td>10000.0</td>\n",
       "      <td>10000.0</td>\n",
       "      <td>10000.0</td>\n",
       "      <td>10000.0</td>\n",
       "      <td>10000.0</td>\n",
       "      <td>10000.0</td>\n",
       "      <td>1</td>\n",
       "    </tr>\n",
       "    <tr>\n",
       "      <th>1</th>\n",
       "      <td>6</td>\n",
       "      <td>25.0</td>\n",
       "      <td>26.0</td>\n",
       "      <td>1.0</td>\n",
       "      <td>0.0</td>\n",
       "      <td>0.0</td>\n",
       "      <td>1.0</td>\n",
       "      <td>1.0</td>\n",
       "      <td>1.0</td>\n",
       "      <td>0.0</td>\n",
       "      <td>...</td>\n",
       "      <td>2593.0</td>\n",
       "      <td>10000.0</td>\n",
       "      <td>3092.0</td>\n",
       "      <td>4389.0</td>\n",
       "      <td>10000.0</td>\n",
       "      <td>5426.0</td>\n",
       "      <td>10000.0</td>\n",
       "      <td>10000.0</td>\n",
       "      <td>10000.0</td>\n",
       "      <td>3</td>\n",
       "    </tr>\n",
       "    <tr>\n",
       "      <th>2</th>\n",
       "      <td>1</td>\n",
       "      <td>35.0</td>\n",
       "      <td>45.0</td>\n",
       "      <td>9.0</td>\n",
       "      <td>1.0</td>\n",
       "      <td>3.0</td>\n",
       "      <td>3.0</td>\n",
       "      <td>3.0</td>\n",
       "      <td>3.0</td>\n",
       "      <td>2.0</td>\n",
       "      <td>...</td>\n",
       "      <td>4760.0</td>\n",
       "      <td>4392.0</td>\n",
       "      <td>4784.0</td>\n",
       "      <td>2121.0</td>\n",
       "      <td>4000.0</td>\n",
       "      <td>3224.0</td>\n",
       "      <td>3961.0</td>\n",
       "      <td>5433.0</td>\n",
       "      <td>2176.0</td>\n",
       "      <td>0</td>\n",
       "    </tr>\n",
       "    <tr>\n",
       "      <th>3</th>\n",
       "      <td>2</td>\n",
       "      <td>51.0</td>\n",
       "      <td>58.0</td>\n",
       "      <td>5.0</td>\n",
       "      <td>2.0</td>\n",
       "      <td>5.0</td>\n",
       "      <td>3.0</td>\n",
       "      <td>3.0</td>\n",
       "      <td>3.0</td>\n",
       "      <td>3.0</td>\n",
       "      <td>...</td>\n",
       "      <td>3344.0</td>\n",
       "      <td>2352.0</td>\n",
       "      <td>2464.0</td>\n",
       "      <td>3552.0</td>\n",
       "      <td>6360.0</td>\n",
       "      <td>3064.0</td>\n",
       "      <td>2816.0</td>\n",
       "      <td>3664.0</td>\n",
       "      <td>2504.0</td>\n",
       "      <td>0</td>\n",
       "    </tr>\n",
       "    <tr>\n",
       "      <th>4</th>\n",
       "      <td>1</td>\n",
       "      <td>45.0</td>\n",
       "      <td>58.0</td>\n",
       "      <td>12.0</td>\n",
       "      <td>1.0</td>\n",
       "      <td>3.0</td>\n",
       "      <td>6.0</td>\n",
       "      <td>4.0</td>\n",
       "      <td>2.0</td>\n",
       "      <td>3.0</td>\n",
       "      <td>...</td>\n",
       "      <td>4282.0</td>\n",
       "      <td>3193.0</td>\n",
       "      <td>3551.0</td>\n",
       "      <td>3664.0</td>\n",
       "      <td>3056.0</td>\n",
       "      <td>4399.0</td>\n",
       "      <td>3808.0</td>\n",
       "      <td>10000.0</td>\n",
       "      <td>10000.0</td>\n",
       "      <td>0</td>\n",
       "    </tr>\n",
       "  </tbody>\n",
       "</table>\n",
       "<p>5 rows × 96 columns</p>\n",
       "</div>"
      ],
      "text/plain": [
       "   pauses  unique_patterns_count  total_values_count  duplicates  \\\n",
       "0       1                    4.0                 5.0         1.0   \n",
       "1       6                   25.0                26.0         1.0   \n",
       "2       1                   35.0                45.0         9.0   \n",
       "3       2                   51.0                58.0         5.0   \n",
       "4       1                   45.0                58.0        12.0   \n",
       "\n",
       "   empty_submissions  Box_1_Submission  Box_2_Submission  Box_3_Submission  \\\n",
       "0                0.0               3.0               2.0               0.0   \n",
       "1                0.0               0.0               1.0               1.0   \n",
       "2                1.0               3.0               3.0               3.0   \n",
       "3                2.0               5.0               3.0               3.0   \n",
       "4                1.0               3.0               6.0               4.0   \n",
       "\n",
       "   Box_4_Submission  Box_5_Submission  ...  Box_10_Timegap  Box_11_Timegap  \\\n",
       "0               0.0               0.0  ...         10000.0         10000.0   \n",
       "1               1.0               0.0  ...          2593.0         10000.0   \n",
       "2               3.0               2.0  ...          4760.0          4392.0   \n",
       "3               3.0               3.0  ...          3344.0          2352.0   \n",
       "4               2.0               3.0  ...          4282.0          3193.0   \n",
       "\n",
       "   Box_12_Timegap  Box_13_Timegap  Box_14_Timegap  Box_15_Timegap  \\\n",
       "0         10000.0         10000.0         10000.0         10000.0   \n",
       "1          3092.0          4389.0         10000.0          5426.0   \n",
       "2          4784.0          2121.0          4000.0          3224.0   \n",
       "3          2464.0          3552.0          6360.0          3064.0   \n",
       "4          3551.0          3664.0          3056.0          4399.0   \n",
       "\n",
       "   Box_16_Timegap  Box_17_Timegap  Box_18_Timegap  Cluster  \n",
       "0         10000.0         10000.0         10000.0        1  \n",
       "1         10000.0         10000.0         10000.0        3  \n",
       "2          3961.0          5433.0          2176.0        0  \n",
       "3          2816.0          3664.0          2504.0        0  \n",
       "4          3808.0         10000.0         10000.0        0  \n",
       "\n",
       "[5 rows x 96 columns]"
      ]
     },
     "execution_count": 87,
     "metadata": {},
     "output_type": "execute_result"
    }
   ],
   "source": [
    "df.head()"
   ]
  },
  {
   "cell_type": "markdown",
   "metadata": {},
   "source": [
    "# Preprocessing\n",
    "\n",
    "Given the fact we are trying to compare the performance of three models, we will use the same train and test sets for all three of the models.\n"
   ]
  },
  {
   "cell_type": "code",
   "execution_count": 88,
   "metadata": {},
   "outputs": [],
   "source": [
    "# Split the data into features and target\n",
    "X = df.drop('Cluster', axis=1)\n",
    "y = df['Cluster']"
   ]
  },
  {
   "cell_type": "code",
   "execution_count": 89,
   "metadata": {},
   "outputs": [],
   "source": [
    "# Split the data into training and test sets\n",
    "X_train, X_test, y_train, y_test = train_test_split(X, y, test_size=0.2, random_state=42)"
   ]
  },
  {
   "cell_type": "code",
   "execution_count": 90,
   "metadata": {},
   "outputs": [],
   "source": [
    "from sklearn.preprocessing import StandardScaler\n",
    "scaler = StandardScaler()\n",
    "scaler.fit(X_train)\n",
    "X_train = scaler.transform(X_train)\n",
    "X_test = scaler.transform(X_test)"
   ]
  },
  {
   "cell_type": "markdown",
   "metadata": {},
   "source": [
    "# Modeling"
   ]
  },
  {
   "cell_type": "markdown",
   "metadata": {},
   "source": [
    "We will first initialize the models:"
   ]
  },
  {
   "cell_type": "code",
   "execution_count": 92,
   "metadata": {},
   "outputs": [],
   "source": [
    "knn = KNeighborsClassifier(n_neighbors=3)\n",
    "dt = DecisionTreeClassifier()\n",
    "svm = SVC()"
   ]
  },
  {
   "cell_type": "markdown",
   "metadata": {},
   "source": [
    "Then we train the models:"
   ]
  },
  {
   "cell_type": "code",
   "execution_count": 93,
   "metadata": {},
   "outputs": [
    {
     "data": {
      "text/html": [
       "<style>#sk-container-id-8 {color: black;}#sk-container-id-8 pre{padding: 0;}#sk-container-id-8 div.sk-toggleable {background-color: white;}#sk-container-id-8 label.sk-toggleable__label {cursor: pointer;display: block;width: 100%;margin-bottom: 0;padding: 0.3em;box-sizing: border-box;text-align: center;}#sk-container-id-8 label.sk-toggleable__label-arrow:before {content: \"▸\";float: left;margin-right: 0.25em;color: #696969;}#sk-container-id-8 label.sk-toggleable__label-arrow:hover:before {color: black;}#sk-container-id-8 div.sk-estimator:hover label.sk-toggleable__label-arrow:before {color: black;}#sk-container-id-8 div.sk-toggleable__content {max-height: 0;max-width: 0;overflow: hidden;text-align: left;background-color: #f0f8ff;}#sk-container-id-8 div.sk-toggleable__content pre {margin: 0.2em;color: black;border-radius: 0.25em;background-color: #f0f8ff;}#sk-container-id-8 input.sk-toggleable__control:checked~div.sk-toggleable__content {max-height: 200px;max-width: 100%;overflow: auto;}#sk-container-id-8 input.sk-toggleable__control:checked~label.sk-toggleable__label-arrow:before {content: \"▾\";}#sk-container-id-8 div.sk-estimator input.sk-toggleable__control:checked~label.sk-toggleable__label {background-color: #d4ebff;}#sk-container-id-8 div.sk-label input.sk-toggleable__control:checked~label.sk-toggleable__label {background-color: #d4ebff;}#sk-container-id-8 input.sk-hidden--visually {border: 0;clip: rect(1px 1px 1px 1px);clip: rect(1px, 1px, 1px, 1px);height: 1px;margin: -1px;overflow: hidden;padding: 0;position: absolute;width: 1px;}#sk-container-id-8 div.sk-estimator {font-family: monospace;background-color: #f0f8ff;border: 1px dotted black;border-radius: 0.25em;box-sizing: border-box;margin-bottom: 0.5em;}#sk-container-id-8 div.sk-estimator:hover {background-color: #d4ebff;}#sk-container-id-8 div.sk-parallel-item::after {content: \"\";width: 100%;border-bottom: 1px solid gray;flex-grow: 1;}#sk-container-id-8 div.sk-label:hover label.sk-toggleable__label {background-color: #d4ebff;}#sk-container-id-8 div.sk-serial::before {content: \"\";position: absolute;border-left: 1px solid gray;box-sizing: border-box;top: 0;bottom: 0;left: 50%;z-index: 0;}#sk-container-id-8 div.sk-serial {display: flex;flex-direction: column;align-items: center;background-color: white;padding-right: 0.2em;padding-left: 0.2em;position: relative;}#sk-container-id-8 div.sk-item {position: relative;z-index: 1;}#sk-container-id-8 div.sk-parallel {display: flex;align-items: stretch;justify-content: center;background-color: white;position: relative;}#sk-container-id-8 div.sk-item::before, #sk-container-id-8 div.sk-parallel-item::before {content: \"\";position: absolute;border-left: 1px solid gray;box-sizing: border-box;top: 0;bottom: 0;left: 50%;z-index: -1;}#sk-container-id-8 div.sk-parallel-item {display: flex;flex-direction: column;z-index: 1;position: relative;background-color: white;}#sk-container-id-8 div.sk-parallel-item:first-child::after {align-self: flex-end;width: 50%;}#sk-container-id-8 div.sk-parallel-item:last-child::after {align-self: flex-start;width: 50%;}#sk-container-id-8 div.sk-parallel-item:only-child::after {width: 0;}#sk-container-id-8 div.sk-dashed-wrapped {border: 1px dashed gray;margin: 0 0.4em 0.5em 0.4em;box-sizing: border-box;padding-bottom: 0.4em;background-color: white;}#sk-container-id-8 div.sk-label label {font-family: monospace;font-weight: bold;display: inline-block;line-height: 1.2em;}#sk-container-id-8 div.sk-label-container {text-align: center;}#sk-container-id-8 div.sk-container {/* jupyter's `normalize.less` sets `[hidden] { display: none; }` but bootstrap.min.css set `[hidden] { display: none !important; }` so we also need the `!important` here to be able to override the default hidden behavior on the sphinx rendered scikit-learn.org. See: https://github.com/scikit-learn/scikit-learn/issues/21755 */display: inline-block !important;position: relative;}#sk-container-id-8 div.sk-text-repr-fallback {display: none;}</style><div id=\"sk-container-id-8\" class=\"sk-top-container\"><div class=\"sk-text-repr-fallback\"><pre>SVC()</pre><b>In a Jupyter environment, please rerun this cell to show the HTML representation or trust the notebook. <br />On GitHub, the HTML representation is unable to render, please try loading this page with nbviewer.org.</b></div><div class=\"sk-container\" hidden><div class=\"sk-item\"><div class=\"sk-estimator sk-toggleable\"><input class=\"sk-toggleable__control sk-hidden--visually\" id=\"sk-estimator-id-8\" type=\"checkbox\" checked><label for=\"sk-estimator-id-8\" class=\"sk-toggleable__label sk-toggleable__label-arrow\">SVC</label><div class=\"sk-toggleable__content\"><pre>SVC()</pre></div></div></div></div></div>"
      ],
      "text/plain": [
       "SVC()"
      ]
     },
     "execution_count": 93,
     "metadata": {},
     "output_type": "execute_result"
    }
   ],
   "source": [
    "knn.fit(X_train, y_train)\n",
    "dt.fit(X_train, y_train)\n",
    "svm.fit(X_train, y_train)"
   ]
  },
  {
   "cell_type": "markdown",
   "metadata": {},
   "source": [
    "Then we predict using the models:"
   ]
  },
  {
   "cell_type": "code",
   "execution_count": 94,
   "metadata": {},
   "outputs": [],
   "source": [
    "y_pred_knn = knn.predict(X_test)\n",
    "y_pred_dt = dt.predict(X_test)\n",
    "y_pred_svm = svm.predict(X_test)"
   ]
  },
  {
   "cell_type": "markdown",
   "metadata": {},
   "source": [
    "Lastly, we evaluate the models:"
   ]
  },
  {
   "cell_type": "code",
   "execution_count": 95,
   "metadata": {},
   "outputs": [],
   "source": [
    "accuracy_knn = accuracy_score(y_test, y_pred_knn)\n",
    "accuracy_dt = accuracy_score(y_test, y_pred_dt)\n",
    "accuracy_svm = accuracy_score(y_test, y_pred_svm)"
   ]
  },
  {
   "cell_type": "code",
   "execution_count": 96,
   "metadata": {},
   "outputs": [
    {
     "name": "stdout",
     "output_type": "stream",
     "text": [
      "KNN Accuracy: 0.8432671081677704\n",
      "Decision Tree Accuracy: 0.7549668874172185\n",
      "SVM Accuracy: 0.9635761589403974\n"
     ]
    }
   ],
   "source": [
    "print(f\"KNN Accuracy: {accuracy_knn}\")\n",
    "print(f\"Decision Tree Accuracy: {accuracy_dt}\")\n",
    "print(f\"SVM Accuracy: {accuracy_svm}\")"
   ]
  },
  {
   "cell_type": "markdown",
   "metadata": {},
   "source": [
    "Detailed classification reports:"
   ]
  },
  {
   "cell_type": "code",
   "execution_count": 97,
   "metadata": {},
   "outputs": [
    {
     "name": "stdout",
     "output_type": "stream",
     "text": [
      "\n",
      "KNN Classification Report:\n",
      "              precision    recall  f1-score   support\n",
      "\n",
      "           0       0.91      0.76      0.83       153\n",
      "           1       0.83      0.86      0.85       162\n",
      "           2       0.83      0.91      0.87       336\n",
      "           3       0.84      0.80      0.82       255\n",
      "\n",
      "    accuracy                           0.84       906\n",
      "   macro avg       0.85      0.83      0.84       906\n",
      "weighted avg       0.85      0.84      0.84       906\n",
      "\n",
      "Decision Tree Classification Report:\n",
      "              precision    recall  f1-score   support\n",
      "\n",
      "           0       0.71      0.82      0.76       153\n",
      "           1       0.87      0.69      0.77       162\n",
      "           2       0.80      0.71      0.75       336\n",
      "           3       0.69      0.83      0.75       255\n",
      "\n",
      "    accuracy                           0.75       906\n",
      "   macro avg       0.77      0.76      0.76       906\n",
      "weighted avg       0.77      0.75      0.76       906\n",
      "\n",
      "SVM Classification Report:\n",
      "              precision    recall  f1-score   support\n",
      "\n",
      "           0       0.99      0.97      0.98       153\n",
      "           1       0.97      0.89      0.93       162\n",
      "           2       0.98      0.98      0.98       336\n",
      "           3       0.92      0.98      0.95       255\n",
      "\n",
      "    accuracy                           0.96       906\n",
      "   macro avg       0.97      0.96      0.96       906\n",
      "weighted avg       0.96      0.96      0.96       906\n",
      "\n",
      "KNN Confusion Matrix:\n",
      "[[116   0  37   0]\n",
      " [  0 140   1  21]\n",
      " [ 12   1 305  18]\n",
      " [  0  27  25 203]]\n",
      "Decision Tree Confusion Matrix:\n",
      "[[125   0  28   0]\n",
      " [  0 111   5  46]\n",
      " [ 48   1 237  50]\n",
      " [  2  15  27 211]]\n",
      "SVM Confusion Matrix:\n",
      "[[149   0   4   0]\n",
      " [  0 144   1  17]\n",
      " [  1   1 330   4]\n",
      " [  0   3   2 250]]\n"
     ]
    }
   ],
   "source": [
    "# Detailed classification reports\n",
    "print(\"\\nKNN Classification Report:\")\n",
    "print(classification_report(y_test, y_pred_knn))\n",
    "\n",
    "print(\"Decision Tree Classification Report:\")\n",
    "print(classification_report(y_test, y_pred_dt))\n",
    "\n",
    "print(\"SVM Classification Report:\")\n",
    "print(classification_report(y_test, y_pred_svm))\n",
    "\n",
    "# Confusion matrices\n",
    "print(\"KNN Confusion Matrix:\")\n",
    "print(confusion_matrix(y_test, y_pred_knn))\n",
    "\n",
    "print(\"Decision Tree Confusion Matrix:\")\n",
    "print(confusion_matrix(y_test, y_pred_dt))\n",
    "\n",
    "print(\"SVM Confusion Matrix:\")\n",
    "print(confusion_matrix(y_test, y_pred_svm))\n"
   ]
  },
  {
   "cell_type": "code",
   "execution_count": 98,
   "metadata": {},
   "outputs": [
    {
     "name": "stdout",
     "output_type": "stream",
     "text": [
      "SVM Accuracy on training data: 0.9980678995307756\n",
      "SVM Accuracy on test data: 0.9635761589403974\n",
      "Training classification report:\n",
      "               precision    recall  f1-score   support\n",
      "\n",
      "           0       1.00      1.00      1.00       723\n",
      "           1       1.00      1.00      1.00       513\n",
      "           2       1.00      1.00      1.00      1329\n",
      "           3       1.00      1.00      1.00      1058\n",
      "\n",
      "    accuracy                           1.00      3623\n",
      "   macro avg       1.00      1.00      1.00      3623\n",
      "weighted avg       1.00      1.00      1.00      3623\n",
      "\n",
      "Test classification report:\n",
      "               precision    recall  f1-score   support\n",
      "\n",
      "           0       0.99      0.97      0.98       153\n",
      "           1       0.97      0.89      0.93       162\n",
      "           2       0.98      0.98      0.98       336\n",
      "           3       0.92      0.98      0.95       255\n",
      "\n",
      "    accuracy                           0.96       906\n",
      "   macro avg       0.97      0.96      0.96       906\n",
      "weighted avg       0.96      0.96      0.96       906\n",
      "\n"
     ]
    }
   ],
   "source": [
    "a = svm.predict(X_train)\n",
    "a_accuracy = accuracy_score(y_train, a)\n",
    "print(f\"SVM Accuracy on training data: {a_accuracy}\")\n",
    "\n",
    "b = svm.predict(X_test)\n",
    "b_accuracy = accuracy_score(y_test, b)\n",
    "print(f\"SVM Accuracy on test data: {b_accuracy}\")\n",
    "\n",
    "print(\"Training classification report:\\n\", classification_report(y_train, a))\n",
    "print(\"Test classification report:\\n\", classification_report(y_test, b))"
   ]
  }
 ],
 "metadata": {
  "kernelspec": {
   "display_name": "Python 3",
   "language": "python",
   "name": "python3"
  },
  "language_info": {
   "codemirror_mode": {
    "name": "ipython",
    "version": 3
   },
   "file_extension": ".py",
   "mimetype": "text/x-python",
   "name": "python",
   "nbconvert_exporter": "python",
   "pygments_lexer": "ipython3",
   "version": "3.11.8"
  }
 },
 "nbformat": 4,
 "nbformat_minor": 2
}
