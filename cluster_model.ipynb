{
 "cells": [
  {
   "cell_type": "markdown",
   "metadata": {},
   "source": [
    "In the main workbook, we ustilized clustering algorithm to form groups based on new features extracted from the initial five-point test. Now, we aim to develop a model to categorize new students' tests into the groups (*clusters from 0 to 3*) we created from the previous workbook.\n",
    "\n",
    "Based on the client's input and our own analysis of visualized sample data of each student from clusters, we have labeled the clusters as follows: <br>\n",
    "\n",
    "Cluster '0': *Slow Learner* <br>\n",
    "Cluster '1': *Quick Thinker* <br>\n",
    "Cluster '2': *Complex Thinker*<br>\n",
    "Cluster '3': *Hesitant Student*\n",
    "\n",
    "(*This part could not have been a part of the main notebook as the main notebook already takes a long time to run*)"
   ]
  },
  {
   "cell_type": "markdown",
   "metadata": {},
   "source": [
    "# _**PHASE 3 : Prediction**_"
   ]
  },
  {
   "cell_type": "markdown",
   "metadata": {},
   "source": [
    "We will start by importing the necessary libraries and the _**prepared**_ dataset."
   ]
  },
  {
   "cell_type": "code",
   "execution_count": 607,
   "metadata": {},
   "outputs": [],
   "source": [
    "import pandas as pd\n",
    "import numpy as np\n",
    "import seaborn as sns\n",
    "import matplotlib.pyplot as plt\n",
    "from sklearn.model_selection import train_test_split\n",
    "from sklearn.metrics import accuracy_score, classification_report, confusion_matrix"
   ]
  },
  {
   "cell_type": "code",
   "execution_count": 608,
   "metadata": {},
   "outputs": [],
   "source": [
    "df = pd.read_csv('5dots\\dataset_with_clusters.csv')"
   ]
  },
  {
   "cell_type": "markdown",
   "metadata": {},
   "source": [
    "# _**K-Nearest Neighbor**_\n",
    "\n",
    "[K-NN is simple, makes no assumptions and is easy to implement for multi-class problem.](https://www.fromthegenesis.com/pros-and-cons-of-k-nearest-neighbors/) For these reasons, we will use k-Nearest Neighbor as an initial model to establish a baseline performance.\n"
   ]
  },
  {
   "cell_type": "markdown",
   "metadata": {},
   "source": [
    "## 🛠️ _**Preprocessing**_"
   ]
  },
  {
   "cell_type": "markdown",
   "metadata": {},
   "source": [
    "### 🎯 Target variable\n",
    "\n",
    "The target variable is the variable we are trying to predict. There are four values of clusters in the *'Cluster'* column, which are numbers from 0 to 3. "
   ]
  },
  {
   "cell_type": "code",
   "execution_count": 609,
   "metadata": {},
   "outputs": [],
   "source": [
    "y = df['Cluster']"
   ]
  },
  {
   "cell_type": "markdown",
   "metadata": {},
   "source": [
    "### 🛠️ Features\n",
    "\n",
    "Since the purpose of this model is to set a baseline, we will use all features without dropping any features. This is also because we used all features to create the cluster. However, *having more features does not mean a higher chance of guessing correctly*, but it will show a decent baseline."
   ]
  },
  {
   "cell_type": "code",
   "execution_count": 610,
   "metadata": {},
   "outputs": [],
   "source": [
    "# We are using all features except the target variable, and the dataset is already cleaned and thus it does not include student id\n",
    "X = df.drop('Cluster', axis=1) "
   ]
  },
  {
   "cell_type": "markdown",
   "metadata": {},
   "source": [
    "### 🪓 Splitting into Train/Test\n",
    "\n",
    "Before the model is trained, we are splitting the dataset into train and test set. The reasoning here is that the model trains with, for example 80% of the data available, and the other 20% is used to ask it to predict the target variable. For now, because the true target variable of that 20% is known, we can compare the predictions with the ground truth and devise how well the model performs."
   ]
  },
  {
   "cell_type": "code",
   "execution_count": 611,
   "metadata": {},
   "outputs": [],
   "source": [
    "X_train, X_test, y_train, y_test = train_test_split(X, y, test_size=0.2, random_state=42)"
   ]
  },
  {
   "cell_type": "markdown",
   "metadata": {},
   "source": [
    "### ⚖️ Scaling\n",
    "The K-Nearest Neighbors (KNN) algorithm and Support Vector Machines (SVM) both rely on distance calculations to make predictions. For instance, KNN uses the concept of \"being near\" to decide cluster membership for new data points. This \"being near\" is calculated using [Euclidean distance](https://en.wikipedia.org/wiki/Euclidean_distance), which measures absolute differences between values of the same feature, but not among different features.\n",
    "\n",
    "Therefore, it is necessary to scale all features to ensure they use the same unit of measurement. Without scaling, features with larger ranges can disproportionately influence the distance calculations, leading to biased results. A common approach is to use [standard deviation](https://en.wikipedia.org/wiki/Standard_deviation) as the unit, transforming all features to have a mean of 0 and a standard deviation of 1. This transformation is achieved using the `StandardScaler` from sklearn."
   ]
  },
  {
   "cell_type": "code",
   "execution_count": 612,
   "metadata": {},
   "outputs": [],
   "source": [
    "from sklearn.preprocessing import StandardScaler"
   ]
  },
  {
   "cell_type": "code",
   "execution_count": 613,
   "metadata": {},
   "outputs": [],
   "source": [
    "scaler = StandardScaler()\n",
    "X_train_scaled = scaler.fit_transform(X_train)\n",
    "X_test_scaled = scaler.transform(X_test)"
   ]
  },
  {
   "cell_type": "markdown",
   "metadata": {},
   "source": [
    "## 🧬 _**Modelling**_"
   ]
  },
  {
   "cell_type": "code",
   "execution_count": 614,
   "metadata": {},
   "outputs": [],
   "source": [
    "from sklearn.neighbors import KNeighborsClassifier"
   ]
  },
  {
   "cell_type": "markdown",
   "metadata": {},
   "source": [
    "The default parameters are used to set a baseline performance. This provides a straightforward starting point before performing any hyperparameter tuning or adjustments."
   ]
  },
  {
   "cell_type": "code",
   "execution_count": 615,
   "metadata": {},
   "outputs": [],
   "source": [
    "knn = KNeighborsClassifier() # kNN model parameters are set to default: n_neighbors=5, weights='uniform'"
   ]
  },
  {
   "cell_type": "markdown",
   "metadata": {},
   "source": [
    "Training the model on scaled data ensures that features with larger ranges do not disproportionately affect the distance calculations in the KNN algorithm. "
   ]
  },
  {
   "cell_type": "code",
   "execution_count": 616,
   "metadata": {},
   "outputs": [
    {
     "data": {
      "text/html": [
       "<style>#sk-container-id-17 {color: black;}#sk-container-id-17 pre{padding: 0;}#sk-container-id-17 div.sk-toggleable {background-color: white;}#sk-container-id-17 label.sk-toggleable__label {cursor: pointer;display: block;width: 100%;margin-bottom: 0;padding: 0.3em;box-sizing: border-box;text-align: center;}#sk-container-id-17 label.sk-toggleable__label-arrow:before {content: \"▸\";float: left;margin-right: 0.25em;color: #696969;}#sk-container-id-17 label.sk-toggleable__label-arrow:hover:before {color: black;}#sk-container-id-17 div.sk-estimator:hover label.sk-toggleable__label-arrow:before {color: black;}#sk-container-id-17 div.sk-toggleable__content {max-height: 0;max-width: 0;overflow: hidden;text-align: left;background-color: #f0f8ff;}#sk-container-id-17 div.sk-toggleable__content pre {margin: 0.2em;color: black;border-radius: 0.25em;background-color: #f0f8ff;}#sk-container-id-17 input.sk-toggleable__control:checked~div.sk-toggleable__content {max-height: 200px;max-width: 100%;overflow: auto;}#sk-container-id-17 input.sk-toggleable__control:checked~label.sk-toggleable__label-arrow:before {content: \"▾\";}#sk-container-id-17 div.sk-estimator input.sk-toggleable__control:checked~label.sk-toggleable__label {background-color: #d4ebff;}#sk-container-id-17 div.sk-label input.sk-toggleable__control:checked~label.sk-toggleable__label {background-color: #d4ebff;}#sk-container-id-17 input.sk-hidden--visually {border: 0;clip: rect(1px 1px 1px 1px);clip: rect(1px, 1px, 1px, 1px);height: 1px;margin: -1px;overflow: hidden;padding: 0;position: absolute;width: 1px;}#sk-container-id-17 div.sk-estimator {font-family: monospace;background-color: #f0f8ff;border: 1px dotted black;border-radius: 0.25em;box-sizing: border-box;margin-bottom: 0.5em;}#sk-container-id-17 div.sk-estimator:hover {background-color: #d4ebff;}#sk-container-id-17 div.sk-parallel-item::after {content: \"\";width: 100%;border-bottom: 1px solid gray;flex-grow: 1;}#sk-container-id-17 div.sk-label:hover label.sk-toggleable__label {background-color: #d4ebff;}#sk-container-id-17 div.sk-serial::before {content: \"\";position: absolute;border-left: 1px solid gray;box-sizing: border-box;top: 0;bottom: 0;left: 50%;z-index: 0;}#sk-container-id-17 div.sk-serial {display: flex;flex-direction: column;align-items: center;background-color: white;padding-right: 0.2em;padding-left: 0.2em;position: relative;}#sk-container-id-17 div.sk-item {position: relative;z-index: 1;}#sk-container-id-17 div.sk-parallel {display: flex;align-items: stretch;justify-content: center;background-color: white;position: relative;}#sk-container-id-17 div.sk-item::before, #sk-container-id-17 div.sk-parallel-item::before {content: \"\";position: absolute;border-left: 1px solid gray;box-sizing: border-box;top: 0;bottom: 0;left: 50%;z-index: -1;}#sk-container-id-17 div.sk-parallel-item {display: flex;flex-direction: column;z-index: 1;position: relative;background-color: white;}#sk-container-id-17 div.sk-parallel-item:first-child::after {align-self: flex-end;width: 50%;}#sk-container-id-17 div.sk-parallel-item:last-child::after {align-self: flex-start;width: 50%;}#sk-container-id-17 div.sk-parallel-item:only-child::after {width: 0;}#sk-container-id-17 div.sk-dashed-wrapped {border: 1px dashed gray;margin: 0 0.4em 0.5em 0.4em;box-sizing: border-box;padding-bottom: 0.4em;background-color: white;}#sk-container-id-17 div.sk-label label {font-family: monospace;font-weight: bold;display: inline-block;line-height: 1.2em;}#sk-container-id-17 div.sk-label-container {text-align: center;}#sk-container-id-17 div.sk-container {/* jupyter's `normalize.less` sets `[hidden] { display: none; }` but bootstrap.min.css set `[hidden] { display: none !important; }` so we also need the `!important` here to be able to override the default hidden behavior on the sphinx rendered scikit-learn.org. See: https://github.com/scikit-learn/scikit-learn/issues/21755 */display: inline-block !important;position: relative;}#sk-container-id-17 div.sk-text-repr-fallback {display: none;}</style><div id=\"sk-container-id-17\" class=\"sk-top-container\"><div class=\"sk-text-repr-fallback\"><pre>KNeighborsClassifier()</pre><b>In a Jupyter environment, please rerun this cell to show the HTML representation or trust the notebook. <br />On GitHub, the HTML representation is unable to render, please try loading this page with nbviewer.org.</b></div><div class=\"sk-container\" hidden><div class=\"sk-item\"><div class=\"sk-estimator sk-toggleable\"><input class=\"sk-toggleable__control sk-hidden--visually\" id=\"sk-estimator-id-19\" type=\"checkbox\" checked><label for=\"sk-estimator-id-19\" class=\"sk-toggleable__label sk-toggleable__label-arrow\">KNeighborsClassifier</label><div class=\"sk-toggleable__content\"><pre>KNeighborsClassifier()</pre></div></div></div></div></div>"
      ],
      "text/plain": [
       "KNeighborsClassifier()"
      ]
     },
     "execution_count": 616,
     "metadata": {},
     "output_type": "execute_result"
    }
   ],
   "source": [
    "knn.fit(X_train_scaled, y_train)"
   ]
  },
  {
   "cell_type": "markdown",
   "metadata": {},
   "source": [
    "Predictions are made on the scaled test set to maintain consistency with the training data preprocessing. This ensures that the model's performance evaluation is accurate and not biased by differences in feature scaling."
   ]
  },
  {
   "cell_type": "code",
   "execution_count": 617,
   "metadata": {},
   "outputs": [],
   "source": [
    "y_pred_knn = knn.predict(X_test_scaled)"
   ]
  },
  {
   "cell_type": "markdown",
   "metadata": {},
   "source": [
    "Accuracy is chosen as the evaluation metric to provide a simple measure of the proportion of correct predictions. More detailed evaluation will be done in the next segment."
   ]
  },
  {
   "cell_type": "code",
   "execution_count": 618,
   "metadata": {},
   "outputs": [
    {
     "name": "stdout",
     "output_type": "stream",
     "text": [
      "KNN Accuracy: 84.77%\n"
     ]
    }
   ],
   "source": [
    "accuracy_knn = accuracy_score(y_test, y_pred_knn)\n",
    "print(f\"KNN Accuracy: {accuracy_knn*100:.2f}%\")"
   ]
  },
  {
   "cell_type": "markdown",
   "metadata": {},
   "source": [
    "## 🔬 _**Evaluation**_"
   ]
  },
  {
   "cell_type": "markdown",
   "metadata": {},
   "source": [
    "### _**Classification Report**_"
   ]
  },
  {
   "cell_type": "code",
   "execution_count": 619,
   "metadata": {},
   "outputs": [
    {
     "name": "stdout",
     "output_type": "stream",
     "text": [
      "\n",
      "KNN Classification Report:\n",
      "              precision    recall  f1-score   support\n",
      "\n",
      "           0       0.90      0.79      0.84       153\n",
      "           1       0.85      0.86      0.85       162\n",
      "           2       0.82      0.92      0.87       336\n",
      "           3       0.86      0.78      0.81       255\n",
      "\n",
      "    accuracy                           0.85       906\n",
      "   macro avg       0.86      0.84      0.85       906\n",
      "weighted avg       0.85      0.85      0.85       906\n",
      "\n"
     ]
    }
   ],
   "source": [
    "print(\"\\nKNN Classification Report:\")\n",
    "print(classification_report(y_test, y_pred_knn))"
   ]
  },
  {
   "cell_type": "markdown",
   "metadata": {},
   "source": [
    "##### _**Conclusion**_\n",
    "\n",
    "[Macro Average treats all classes equally, regardless of how many instances each class has. Weighted Average takes the class distribution into account, providing a more realistic measure of the model's performance across an imbalanced dataset.](https://sefidian.com/2022/06/19/understanding-micro-macro-and-weighted-averages-for-scikit-learn-metrics-in-multi-class-classification-with-example/) The macro average for precision, recall, and F1-score is around 0.85, 0.84, and 0.85 respectively. This means that the model performs consistently across all classes without being biased towards any particular class. The weighted average for precision, recall, and F1-score is also 0.85. <span id=\"oversampling-conclusion\">This</span> suggests a balanced performance overall, despite the fact we haven't used any *over-/undersampling* techniques so far."
   ]
  },
  {
   "cell_type": "markdown",
   "metadata": {},
   "source": [
    "> The model performed generally well, and works for our task. The recalls for cluster 0 (Slow Learner) and 3 (Hesitant Student) are low."
   ]
  },
  {
   "cell_type": "markdown",
   "metadata": {},
   "source": [
    "### _**Confusion Matrix**_"
   ]
  },
  {
   "cell_type": "code",
   "execution_count": 620,
   "metadata": {},
   "outputs": [],
   "source": [
    "conf_matrix_knn = confusion_matrix(y_test, y_pred_knn)"
   ]
  },
  {
   "cell_type": "markdown",
   "metadata": {},
   "source": [
    "We can now visualize the confusion matrix to better understand:"
   ]
  },
  {
   "cell_type": "code",
   "execution_count": 621,
   "metadata": {},
   "outputs": [
    {
     "data": {
      "image/png": "[encoded data removed]",
      "text/plain": [
       "<Figure size 800x600 with 2 Axes>"
      ]
     },
     "metadata": {},
     "output_type": "display_data"
    }
   ],
   "source": [
    "# Define class labels\n",
    "class_labels = [\"Slow Learner\", \"Quick Thinker\", \"Complex Thinker\", \"Hesitant\"]\n",
    "\n",
    "# Create a heatmap of the confusion matrix\n",
    "plt.figure(figsize=(8, 6))\n",
    "sns.heatmap(conf_matrix_knn, annot=True, cmap=\"Blues\", fmt=\"d\", xticklabels=class_labels, yticklabels=class_labels)\n",
    "plt.xlabel(\"Predicted Label\")\n",
    "plt.ylabel(\"True Label\")\n",
    "plt.title(\"Confusion Matrix - KNN Classifier\")\n",
    "plt.show()"
   ]
  },
  {
   "cell_type": "markdown",
   "metadata": {},
   "source": [
    "The model is likely to mistake _**Slow Learners**_ with _**Complex Thinkers**_ (13 times). _**Quick Thinkers**_ are mistaken with _**Hesitant Students**_ (24 times) and very rarely with _**Complex Thinker**_ (1 time). _**Complex Thinkers**_ are mistaken with _**Slow Learners**_ (32 times) and _**Hesitant Students**_ (33 times). _**Hesitant Students**_ are mistaken with _**Quick Thinkers**_ (21 times) and _**Complex Thinkers**_ (12 times).\n",
    "\n",
    ">> This cannot be explained logically. It could either mean the clusters are not correctly labeled or there is noise in the dataset. "
   ]
  },
  {
   "cell_type": "markdown",
   "metadata": {},
   "source": [
    "### _**Overfitting, Underfitting, and Generalization**_\n",
    "\n",
    "To assess our model for overfitting, underfitting, and generalization, we'll employ two steps:\n",
    "\n",
    "- **Initial Evaluation**: \n",
    "We'll begin by comparing the classification reports obtained from both the test and train sets. This initial examination will provide insights into any inconsistencies between the model's performance on seen versus unseen data.\n",
    "\n",
    "- **Cross-Validation Analysis**:\n",
    "Utilizing the k-fold cross-validation technique, we'll conduct a series of evaluations, training the models on various subsets of the data and assessing their performance on unseen partitions. This method ensures an estimation of model performance and helps reveal potential overfitting or underfitting tendencies."
   ]
  },
  {
   "cell_type": "markdown",
   "metadata": {},
   "source": [
    "##### _**1. Initial Evaluation**_"
   ]
  },
  {
   "cell_type": "code",
   "execution_count": 622,
   "metadata": {},
   "outputs": [
    {
     "name": "stdout",
     "output_type": "stream",
     "text": [
      "KNN Accuracy on training data: 0.911123\n",
      "KNN Accuracy on test data: 0.847682\n",
      "Training classification report:\n",
      "               precision    recall  f1-score   support\n",
      "\n",
      "           0       0.98      0.88      0.92       723\n",
      "           1       0.91      0.96      0.94       513\n",
      "           2       0.86      0.96      0.91      1329\n",
      "           3       0.94      0.85      0.89      1058\n",
      "\n",
      "    accuracy                           0.91      3623\n",
      "   macro avg       0.92      0.91      0.92      3623\n",
      "weighted avg       0.92      0.91      0.91      3623\n",
      "\n",
      "Test classification report:\n",
      "               precision    recall  f1-score   support\n",
      "\n",
      "           0       0.90      0.79      0.84       153\n",
      "           1       0.85      0.86      0.85       162\n",
      "           2       0.82      0.92      0.87       336\n",
      "           3       0.86      0.78      0.81       255\n",
      "\n",
      "    accuracy                           0.85       906\n",
      "   macro avg       0.86      0.84      0.85       906\n",
      "weighted avg       0.85      0.85      0.85       906\n",
      "\n"
     ]
    }
   ],
   "source": [
    "a = knn.predict(X_train_scaled)\n",
    "a_accuracy = accuracy_score(y_train, a)\n",
    "print(f\"KNN Accuracy on training data: {a_accuracy:.6f}\")\n",
    "b = knn.predict(X_test_scaled)\n",
    "b_accuracy = accuracy_score(y_test, b)\n",
    "print(f\"KNN Accuracy on test data: {b_accuracy:.6f}\")\n",
    "\n",
    "print(\"Training classification report:\\n\", classification_report(y_train, a))\n",
    "print(\"Test classification report:\\n\", classification_report(y_test, b))"
   ]
  },
  {
   "cell_type": "markdown",
   "metadata": {},
   "source": [
    ">> There is a slight drop in performance on the test set compared to the training set, the model still maintains good generalization capabilities. "
   ]
  },
  {
   "cell_type": "markdown",
   "metadata": {},
   "source": [
    "##### _**2. Cross Validation Analysis**_"
   ]
  },
  {
   "cell_type": "markdown",
   "metadata": {},
   "source": [
    "We will use k-fold cross-validation to assess the performance of the kNN model. [This technique splits the dataset into k subsets (folds), trains the model on k-1 folds, and evaluates it on the remaining fold. This process is repeated k times, with each fold serving as the test set exactly once.](https://medium.com/analytics-vidhya/a-complete-guide-to-choose-the-correct-cross-validation-technique-d70810a02f27#:~:text=It%20is%20the,any%20(K%2D1))\n",
    "\n",
    "The choice of k-fold cross-validation is justified not only for its simplicity but also because it is suitable for datasets where the distribution of classes is (almost) evenly balanced. When examining the macro average and weighted average from the classification report, the similarity between these metrics suggests that the data is evenly distributed across different classes\n",
    "\n",
    "[A value of k=10 is very common in the field of applied machine learning, and is recommended when struggling to choose a value for the dataset.](https://towardsdatascience.com/cross-validation-explained-evaluating-estimator-performance-e51e5430ff85#:~:text=A%20value%20of%20k%3D10%20is%20very%20common%20in%20the%20field%20of%20applied%20machine%20learning%2C%20and%20is%20recommend%20if%20you%20are%20struggling%20to%20choose%20a%20value%20for%20your%20dataset.) And thus, we will use 10-fold cross-validation"
   ]
  },
  {
   "cell_type": "code",
   "execution_count": 623,
   "metadata": {},
   "outputs": [],
   "source": [
    "from sklearn.model_selection import cross_val_score"
   ]
  },
  {
   "cell_type": "code",
   "execution_count": 624,
   "metadata": {},
   "outputs": [],
   "source": [
    "X_Scaled = StandardScaler().fit_transform(X) # Scale the X data again because kNN is a distance-based algorithm"
   ]
  },
  {
   "cell_type": "code",
   "execution_count": 625,
   "metadata": {},
   "outputs": [
    {
     "name": "stdout",
     "output_type": "stream",
     "text": [
      "kNN Cross Validation Scores: [0.8410596  0.84547461 0.83664459 0.86313466 0.83222958 0.86534216\n",
      " 0.87196468 0.8785872  0.84988962 0.86946903]\n",
      "kNN Cross Validation Mean Score: 0.8553795737365449\n",
      "kNN Cross Validation Standard Deviation: 0.015465438195859644\n"
     ]
    }
   ],
   "source": [
    "scores = cross_val_score(knn, X_Scaled, y, cv=10)\n",
    "print(f\"kNN Cross Validation Scores: {scores}\")\n",
    "print(f\"kNN Cross Validation Mean Score: {np.mean(scores)}\")\n",
    "print(f\"kNN Cross Validation Standard Deviation: {np.std(scores)}\")"
   ]
  },
  {
   "cell_type": "markdown",
   "metadata": {},
   "source": [
    ">> In conclusion, the kNN model showed really consistent and steady performance during our tests. On average, it correctly predicted about 85.5% of the data, which is quite good. The fact that the kNN Cross Validation Standard Deviation is low means our model is pretty reliable. So, it seems like our model could work well on new data we haven't seen before. "
   ]
  },
  {
   "cell_type": "markdown",
   "metadata": {},
   "source": [
    "##### _**The next course of action:**_\n",
    "\n",
    "The dataset can be considered high dimensional, because there are 95 features. And [KNN works well with small number of input variables but as the numbers of variables grow K-NN algorithm struggles to predict the output of new data point.](https://www.fromthegenesis.com/pros-and-cons-of-k-nearest-neighbors/#:~:text=KNN%20works%20well%20with%20small%20number%20of%20input%20variables%20but%20as%20the%20numbers%20of%20variables%20grow%20K%2DNN%20algorithm%20struggles%20to%20predict%20the%20output%20of%20new%20data%20point.)\n",
    "\n",
    "\n",
    "According to Scikit Cheat Sheet, [you can proceed from KNN to Support Vector Machine if you are not satisfied with the outcome of KNN](https://scikit-learn.org/stable/tutorial/machine_learning_map/index.html). Since [Support Vector Machine works with high dimensionality and is good at capturing the underlying patterns](https://iq.opengenus.org/advantages-of-svm/), this will be the logical action to take.\n"
   ]
  },
  {
   "cell_type": "markdown",
   "metadata": {},
   "source": [
    "# _**Support Vector Machine**_"
   ]
  },
  {
   "cell_type": "markdown",
   "metadata": {},
   "source": [
    "## 🛠️ _**Preprocessing**_"
   ]
  },
  {
   "cell_type": "markdown",
   "metadata": {},
   "source": [
    "### 🎯 Target variable\n",
    "\n",
    "The target variable is the variable we are trying to predict. There are four values of clusters in the *'Cluster'* column, which are numbers from 0 to 3. "
   ]
  },
  {
   "cell_type": "code",
   "execution_count": 626,
   "metadata": {},
   "outputs": [],
   "source": [
    "y = df['Cluster']"
   ]
  },
  {
   "cell_type": "markdown",
   "metadata": {},
   "source": [
    "### 🛠️ Feature Selection\n",
    "\n",
    "As previously mentioned, [SVM (Support Vector Machine) performs well with high-dimensional data](https://iq.opengenus.org/advantages-of-svm/#:~:text=handle%20High%20dimensional%20data), meaning the algorithm is effective when working with datasets that have a large number of features. This does not imply that having more data samples is always better, but rather that SVM can handle datasets with many features without significant performance degradation. However, having a sufficient number of data samples is still important for training an effective model.\n",
    "\n",
    "We will take a deductive approach to feature selection in this model. [The deductive approach to feature selection looks at all the features as whole and removes those features that seem to have a poor correlation with the target variable.](https://fhict.instructure.com/courses/13770/pages/feature-selection#:~:text=The%20deductive%20approach%20to%20feature%20selection%20looks%20at%20all%20the%20features%20as%20whole%20and%20removes%20those%20features%20that%20seem%20to%20have%20a%20poor%20correlation%20with%20the%20target%20variable.)"
   ]
  },
  {
   "cell_type": "markdown",
   "metadata": {},
   "source": [
    "To implement a deductive approach, we will group the features based on their correlation indices. "
   ]
  },
  {
   "cell_type": "code",
   "execution_count": 627,
   "metadata": {},
   "outputs": [],
   "source": [
    "# Create a correlation matrix\n",
    "corr = df.corr()"
   ]
  },
  {
   "cell_type": "markdown",
   "metadata": {},
   "source": [
    "To decide on which groups there should be, we should look at the lowest and the highest absolute values (modulus) of correlation indices:"
   ]
  },
  {
   "cell_type": "code",
   "execution_count": 628,
   "metadata": {},
   "outputs": [
    {
     "name": "stdout",
     "output_type": "stream",
     "text": [
      "The Highest Correlations with the Cluster Column:\n",
      "\n",
      "Cluster                  1.000000\n",
      "total_values_count       0.409233\n",
      "Box_1_Submission         0.391261\n",
      "unique_patterns_count    0.382899\n",
      "Box_2_Submission         0.382086\n",
      "Box_3_Submission         0.352273\n",
      "Name: Cluster, dtype: float64\n",
      "\n",
      "The Lowest Correlations with the Cluster Column:\n",
      "\n",
      "Box_3_Unclicks    0.004469\n",
      "Box_7_Unclicks    0.010460\n",
      "Box_2_Unclicks    0.016167\n",
      "Box_4_Unclicks    0.025004\n",
      "Box_5_Unclicks    0.027882\n",
      "Box_1_Unclicks    0.030430\n",
      "Name: Cluster, dtype: float64\n"
     ]
    }
   ],
   "source": [
    "print('The Highest Correlations with the Cluster Column:\\n')\n",
    "print(corr.abs().nlargest(6, 'Cluster')['Cluster'])\n",
    "\n",
    "print('\\nThe Lowest Correlations with the Cluster Column:\\n')\n",
    "print(corr.abs().nsmallest(6, 'Cluster')['Cluster'])"
   ]
  },
  {
   "cell_type": "markdown",
   "metadata": {},
   "source": [
    "The highest absolute value of correlation index is 0.409. Thus there will be four groups:\n",
    "\n",
    "1. Group A: All features\n",
    "2. Group B: Features where the absolute value of correlation index is higher than 0.1\n",
    "3. Group C: Features where the absolute value of correlation index is higher than 0.2\n",
    "4. Group D: Features where the absolute value of correlation index is higher than 0.3"
   ]
  },
  {
   "cell_type": "code",
   "execution_count": 629,
   "metadata": {},
   "outputs": [
    {
     "name": "stdout",
     "output_type": "stream",
     "text": [
      "['pauses', 'unique_patterns_count', 'total_values_count', 'duplicates', 'Box_1_Submission', 'Box_2_Submission', 'Box_3_Submission', 'Box_4_Submission', 'Box_5_Submission', 'Box_6_Submission', 'Box_7_Submission', 'Box_8_Submission', 'Box_9_Submission', 'Box_10_Submission', 'Box_11_Submission', 'Box_1_Lines', 'Box_2_Lines', 'Box_3_Lines', 'Box_4_Lines', 'Box_5_Lines', 'Box_6_Lines', 'Box_7_Lines', 'Box_8_Lines', 'Box_9_Lines', 'Box_10_Lines', 'Box_11_Lines', 'Box_12_Lines', 'Box_13_Lines', 'Box_14_Lines', 'Box_15_Lines', 'Box_16_Lines', 'Box_17_Lines', 'Box_18_Lines', 'Box_1_Clicks', 'Box_2_Clicks', 'Box_3_Clicks', 'Box_4_Clicks', 'Box_5_Clicks', 'Box_6_Clicks', 'Box_7_Clicks', 'Box_8_Clicks', 'Box_9_Clicks', 'Box_10_Clicks', 'Box_11_Clicks', 'Box_12_Clicks', 'Box_13_Clicks', 'Box_14_Clicks', 'Box_15_Clicks', 'Box_16_Clicks', 'Box_17_Clicks', 'Box_18_Clicks', 'Box_1_Timegap', 'Box_2_Timegap', 'Box_3_Timegap', 'Box_4_Timegap', 'Box_5_Timegap', 'Box_6_Timegap', 'Box_7_Timegap', 'Box_8_Timegap', 'Box_9_Timegap', 'Box_10_Timegap', 'Box_11_Timegap', 'Box_12_Timegap', 'Box_13_Timegap', 'Box_15_Timegap', 'Box_16_Timegap', 'Box_17_Timegap', 'Box_18_Timegap', 'Cluster']\n",
      "['pauses', 'unique_patterns_count', 'total_values_count', 'Box_1_Submission', 'Box_2_Submission', 'Box_3_Submission', 'Box_4_Submission', 'Box_5_Submission', 'Box_6_Submission', 'Box_7_Submission', 'Box_8_Submission', 'Box_1_Lines', 'Box_2_Lines', 'Box_3_Lines', 'Box_4_Lines', 'Box_5_Lines', 'Box_6_Lines', 'Box_7_Lines', 'Box_8_Lines', 'Box_9_Lines', 'Box_10_Lines', 'Box_11_Lines', 'Box_12_Lines', 'Box_15_Lines', 'Box_16_Lines', 'Box_18_Lines', 'Box_1_Clicks', 'Box_2_Clicks', 'Box_3_Clicks', 'Box_4_Clicks', 'Box_5_Clicks', 'Box_6_Clicks', 'Box_7_Clicks', 'Box_8_Clicks', 'Box_9_Clicks', 'Box_10_Clicks', 'Box_11_Clicks', 'Box_12_Clicks', 'Box_13_Clicks', 'Box_15_Clicks', 'Box_16_Clicks', 'Box_17_Clicks', 'Box_18_Clicks', 'Box_1_Timegap', 'Box_2_Timegap', 'Box_3_Timegap', 'Box_4_Timegap', 'Box_5_Timegap', 'Box_6_Timegap', 'Box_7_Timegap', 'Box_8_Timegap', 'Box_17_Timegap', 'Box_18_Timegap', 'Cluster']\n",
      "['pauses', 'unique_patterns_count', 'total_values_count', 'Box_1_Submission', 'Box_2_Submission', 'Box_3_Submission', 'Box_4_Submission', 'Box_5_Submission', 'Box_1_Lines', 'Box_6_Clicks', 'Box_1_Timegap', 'Box_18_Timegap', 'Cluster']\n"
     ]
    }
   ],
   "source": [
    "# All features\n",
    "X_Group_A = df.drop('Cluster', axis=1) \n",
    "\n",
    "# Features' column names with correlation higher than 0.1\n",
    "correlations_higher_than_0_point_1 = corr[corr['Cluster'].abs() > 0.1]['Cluster']\n",
    "print(correlations_higher_than_0_point_1.index.tolist())\n",
    "Group_B = correlations_higher_than_0_point_1.drop('Cluster') \n",
    "\n",
    "# Features'column names with correlation higher than 0.2\n",
    "correlations_higher_than_0_point_2 = corr[corr['Cluster'].abs() > 0.2]['Cluster']\n",
    "print(correlations_higher_than_0_point_2.index.tolist())\n",
    "Group_C = correlations_higher_than_0_point_2.drop('Cluster')  \n",
    "\n",
    "# Features'column names with correlation higher than 0.3\n",
    "correlations_higher_than_0_point_3 = corr[corr['Cluster'].abs() > 0.3]['Cluster']\n",
    "print(correlations_higher_than_0_point_3.index.tolist())\n",
    "Group_D = correlations_higher_than_0_point_3.drop('Cluster') "
   ]
  },
  {
   "cell_type": "markdown",
   "metadata": {},
   "source": [
    "### 🪓 Splitting into Train/Test\n",
    "\n",
    "Before the model is trained, we are splitting the dataset into train and test set. The reasoning here is that the model trains with, for example 80% of the data available, and the other 20% is used to ask it to predict the target variable. For now, because the true target variable of that 20% is known, we can compare the predictions with the ground truth and devise how well the model performs."
   ]
  },
  {
   "cell_type": "markdown",
   "metadata": {},
   "source": [
    "We will compare four models with different groups of features to assess which group of features works the best initially. Therefore, it is a good practice to use the same train and test sets for all of them."
   ]
  },
  {
   "cell_type": "code",
   "execution_count": 630,
   "metadata": {},
   "outputs": [],
   "source": [
    "X_Group_A_train, X_Group_A_test, y_train_A, y_test_A = train_test_split(X_Group_A, y, test_size=0.2, random_state=42) "
   ]
  },
  {
   "cell_type": "markdown",
   "metadata": {},
   "source": [
    "### 🪓 Handling Imbalanced Data\n",
    "[Almost every dataset has an unequal representation of classes. This isn’t a problem as long as the difference is small. However, when one or more classes are very rare, many models don’t work too well at identifying the minority classes.](https://towardsdatascience.com/how-to-deal-with-imbalanced-data-34ab7db9b100#:~:text=What%20makes%20Imbalanced,the%20minority%20classes.) One way to fix this problem is to use over-/undersampling techniques. These techniques have the advantage of resolving imbalanced data, oversampling [can increase the chance of overfitting](https://crunchingthedata.com/oversampling-vs-undersampling/#When%20Should%20You%20Resample%20Your%20Data?:~:text=Can%20increase%20the%20chance%20of%20overfitting), and undersampling [can lead to loss of data](https://crunchingthedata.com/oversampling-vs-undersampling/#When%20Should%20You%20Resample%20Your%20Data?:~:text=of%20your%20model.-,Loses%20information,-.%20The%20next%20disadvantage)\n"
   ]
  },
  {
   "cell_type": "markdown",
   "metadata": {},
   "source": [
    "_The graph above shows that out dataset has unevenly distributed classes._"
   ]
  },
  {
   "cell_type": "code",
   "execution_count": 631,
   "metadata": {},
   "outputs": [
    {
     "data": {
      "image/png": "[encoded data removed]",
      "text/plain": [
       "<Figure size 640x480 with 1 Axes>"
      ]
     },
     "metadata": {},
     "output_type": "display_data"
    }
   ],
   "source": [
    "sns.countplot(x='Cluster', data=df)\n",
    "plt.xticks(ticks=[0, 1, 2, 3], labels=[\"Slow Learner\", \"Quick Thinker\", \"Complex Thinker\", \"Hesitant\"])\n",
    "plt.title('Cluster Distribution')\n",
    "plt.show()"
   ]
  },
  {
   "cell_type": "markdown",
   "metadata": {},
   "source": [
    "However, based on the macro and weighted average values from the classification report of the baseline model (KNN), the uneven distribution of classes does not seem to introduce significant biases towards any particular class. "
   ]
  },
  {
   "cell_type": "markdown",
   "metadata": {},
   "source": [
    ">> Decision: Considering this, we have been careful about resampling the dataset. We used SMOTE to oversample the minority classes, but there was no significant improvement in the result. Since this notebook is also a school project, we have left the oversampling part commented for the sake of the learning outcome."
   ]
  },
  {
   "cell_type": "code",
   "execution_count": 632,
   "metadata": {},
   "outputs": [],
   "source": [
    "# from imblearn.over_sampling import SMOTE"
   ]
  },
  {
   "cell_type": "code",
   "execution_count": 633,
   "metadata": {},
   "outputs": [],
   "source": [
    "# smote = SMOTE(random_state=42)\n",
    "# X_Group_A_train, y_train = smote.fit_resample(X_Group_A_train, y_train)"
   ]
  },
  {
   "cell_type": "markdown",
   "metadata": {},
   "source": [
    "From the ~~oversampled~~ split test and  train sets, we can filter the features to form the group of features. This is done here because when you later scale the features it will involve subtracting the mean values. Therefore, this helps prevent information leakage between feature groups. For example, if I scale all features together, information from one group may influence the scaling of another group, leading to inaccurate results:"
   ]
  },
  {
   "cell_type": "code",
   "execution_count": 634,
   "metadata": {},
   "outputs": [],
   "source": [
    "# Drop all the columns except the ones in Group_B\n",
    "X_Group_B_train = X_Group_A_train[Group_B.index]\n",
    "X_Group_B_test = X_Group_A_test[Group_B.index]\n",
    "\n",
    "# Drop all the columns except the ones in Group_C\n",
    "X_Group_C_train = X_Group_A_train[Group_C.index]\n",
    "X_Group_C_test = X_Group_A_test[Group_C.index]\n",
    "\n",
    "# Drop all the columns except the ones in Group_D\n",
    "X_Group_D_train = X_Group_A_train[Group_D.index]\n",
    "X_Group_D_test = X_Group_A_test[Group_D.index]"
   ]
  },
  {
   "cell_type": "markdown",
   "metadata": {},
   "source": [
    "### ⚖️ Scaling\n",
    "SVM relies on distance calculations, particularly the distance between data points and the decision boundary, to make predictions. [Scaling the feature values improves the classifier performance significantly.](https://www.baeldung.com/cs/svm-feature-scaling#:~:text=standardizing%20the%20feature%20values%20improves%20the%20classifier%20performance%20significantly.) A common approach is to use [standard deviation](https://en.wikipedia.org/wiki/Standard_deviation) as the unit, transforming all features to have a mean of 0 and a standard deviation of 1. This transformation is achieved using the `StandardScaler` from sklearn."
   ]
  },
  {
   "cell_type": "code",
   "execution_count": 635,
   "metadata": {},
   "outputs": [],
   "source": [
    "scaler = StandardScaler()"
   ]
  },
  {
   "cell_type": "code",
   "execution_count": 636,
   "metadata": {},
   "outputs": [],
   "source": [
    "# Scale test and train data for Group A\n",
    "X_Group_A_train_scaled = scaler.fit_transform(X_Group_A_train)\n",
    "X_Group_A_test_scaled = scaler.transform(X_Group_A_test)\n",
    "\n",
    "# Scale test and train data for Group B\n",
    "X_Group_B_train_scaled = scaler.fit_transform(X_Group_B_train)\n",
    "X_Group_B_test_scaled = scaler.transform(X_Group_B_test)\n",
    "\n",
    "# Scale test and train data for Group C\n",
    "X_Group_C_train_scaled = scaler.fit_transform(X_Group_C_train)\n",
    "X_Group_C_test_scaled = scaler.transform(X_Group_C_test)\n",
    "\n",
    "# Scale test and train data for Group D\n",
    "X_Group_D_train_scaled = scaler.fit_transform(X_Group_D_train)\n",
    "X_Group_D_test_scaled = scaler.transform(X_Group_D_test)"
   ]
  },
  {
   "cell_type": "markdown",
   "metadata": {},
   "source": [
    "## 🧬 _**Modelling**_\n",
    "\n",
    "In this part, we will model four SVM with their default parameters in order to see the outcome. Hyperparameter tuning will happen in the next segment."
   ]
  },
  {
   "cell_type": "code",
   "execution_count": 637,
   "metadata": {},
   "outputs": [],
   "source": [
    "from sklearn.svm import SVC"
   ]
  },
  {
   "cell_type": "code",
   "execution_count": 638,
   "metadata": {},
   "outputs": [
    {
     "name": "stdout",
     "output_type": "stream",
     "text": [
      "SVM Accuracy for Group A: 96.36%\n"
     ]
    }
   ],
   "source": [
    "# This is the SVM model built using Group A features\n",
    "svm_Group_A = SVC()\n",
    "svm_Group_A.fit(X_Group_A_train_scaled, y_train)\n",
    "y_pred_svm = svm_Group_A.predict(X_Group_A_test_scaled)\n",
    "accuracy_svm = accuracy_score(y_test, y_pred_svm)\n",
    "print(f\"SVM Accuracy for Group A: {accuracy_svm*100:.2f}%\")"
   ]
  },
  {
   "cell_type": "code",
   "execution_count": 639,
   "metadata": {},
   "outputs": [
    {
     "name": "stdout",
     "output_type": "stream",
     "text": [
      "SVM Accuracy for Group B: 95.36%\n"
     ]
    }
   ],
   "source": [
    "# This is the SVM model built using Group B features\n",
    "svm_Group_B = SVC()\n",
    "svm_Group_B.fit(X_Group_B_train_scaled, y_train)\n",
    "y_pred_svm = svm_Group_B.predict(X_Group_B_test_scaled)\n",
    "accuracy_svm = accuracy_score(y_test, y_pred_svm)\n",
    "print(f\"SVM Accuracy for Group B: {accuracy_svm*100:.2f}%\")"
   ]
  },
  {
   "cell_type": "code",
   "execution_count": 640,
   "metadata": {},
   "outputs": [
    {
     "name": "stdout",
     "output_type": "stream",
     "text": [
      "SVM Accuracy for Group C: 91.28%\n"
     ]
    }
   ],
   "source": [
    "# This is the SVM model built using Group C features\n",
    "svm_Group_C = SVC()\n",
    "svm_Group_C.fit(X_Group_C_train_scaled, y_train)\n",
    "y_pred_svm = svm_Group_C.predict(X_Group_C_test_scaled)\n",
    "accuracy_svm = accuracy_score(y_test, y_pred_svm)\n",
    "print(f\"SVM Accuracy for Group C: {accuracy_svm*100:.2f}%\")"
   ]
  },
  {
   "cell_type": "code",
   "execution_count": 641,
   "metadata": {},
   "outputs": [
    {
     "name": "stdout",
     "output_type": "stream",
     "text": [
      "SVM Accuracy for Group D: 82.67%\n"
     ]
    }
   ],
   "source": [
    "# This is the SVM model built using Group D features\n",
    "svm_Group_D = SVC()\n",
    "svm_Group_D.fit(X_Group_D_train_scaled, y_train)\n",
    "y_pred_svm = svm_Group_D.predict(X_Group_D_test_scaled)\n",
    "accuracy_svm = accuracy_score(y_test, y_pred_svm)\n",
    "print(f\"SVM Accuracy for Group D: {accuracy_svm*100:.2f}%\")"
   ]
  },
  {
   "cell_type": "markdown",
   "metadata": {},
   "source": [
    "#### _**Conclusion**_\n",
    "\n",
    "Based on a brief accuracy check, we noticed a slight drop in accuracy from Group A to Group B, around 1.0%, and a larger decrease of about 4% from Group B to Group C. Group D had the lowest accuracy, coming in at 82%.\n"
   ]
  },
  {
   "cell_type": "markdown",
   "metadata": {},
   "source": [
    ">> Decision: Even features with a correlation index (absolute value) below 0.1 still play a role in how well our model predicts outcomes. Since Support Vector Machine tends to handle lots of features well, we've decided to stick with Group A features for our final model. In Group A, we haven't dropped any features, so we're using all available data to build the final model."
   ]
  },
  {
   "cell_type": "markdown",
   "metadata": {},
   "source": [
    "## 🔬 _**Evaluation**_"
   ]
  },
  {
   "cell_type": "markdown",
   "metadata": {},
   "source": [
    "## _**1. Classification Report for train and test set of Group A features:**_\n",
    "\n",
    "By comparing two reports, we can see if there is a sign of overfitting, model's generalization capacity and the model's performance."
   ]
  },
  {
   "cell_type": "code",
   "execution_count": 642,
   "metadata": {},
   "outputs": [
    {
     "name": "stdout",
     "output_type": "stream",
     "text": [
      "SVM Accuracy on training data for Group A: 0.998068\n",
      "SVM Accuracy on test data for Group A: 0.963576\n",
      "Training classification report for Group A:\n",
      "               precision    recall  f1-score   support\n",
      "\n",
      "           0       1.00      1.00      1.00       723\n",
      "           1       1.00      1.00      1.00       513\n",
      "           2       1.00      1.00      1.00      1329\n",
      "           3       1.00      1.00      1.00      1058\n",
      "\n",
      "    accuracy                           1.00      3623\n",
      "   macro avg       1.00      1.00      1.00      3623\n",
      "weighted avg       1.00      1.00      1.00      3623\n",
      "\n",
      "Test classification report for Group A:\n",
      "               precision    recall  f1-score   support\n",
      "\n",
      "           0       0.99      0.97      0.98       153\n",
      "           1       0.97      0.89      0.93       162\n",
      "           2       0.98      0.98      0.98       336\n",
      "           3       0.92      0.98      0.95       255\n",
      "\n",
      "    accuracy                           0.96       906\n",
      "   macro avg       0.97      0.96      0.96       906\n",
      "weighted avg       0.96      0.96      0.96       906\n",
      "\n"
     ]
    }
   ],
   "source": [
    "# find overfitting by comparing the accuracy of the model on the training data and the test data\n",
    "a = svm_Group_A.predict(X_Group_A_train_scaled)\n",
    "a_accuracy = accuracy_score(y_train, a)\n",
    "print(f\"SVM Accuracy on training data for Group A: {a_accuracy:.6f}\")\n",
    "b = svm_Group_A.predict(X_Group_A_test_scaled)\n",
    "b_accuracy = accuracy_score(y_test, b)\n",
    "print(f\"SVM Accuracy on test data for Group A: {b_accuracy:.6f}\")\n",
    "\n",
    "# print the classification report for the training data\n",
    "print(\"Training classification report for Group A:\\n\", classification_report(y_train, a))\n",
    "# print the classification report for the test data\n",
    "print(\"Test classification report for Group A:\\n\", classification_report(y_test, b))"
   ]
  },
  {
   "cell_type": "markdown",
   "metadata": {},
   "source": [
    "#### _**Conclusion:**_\n",
    "After comparing how our model performed on the training and test data, we noticed a small drop in performance on the test set. This suggests that our model is doing a good job with data it hasn't seen before, which is great news! We did notice a tiny chance of overfitting, but it's not a big problem since the drop in performance is so small. Overall, the model seems to be working really well. However, further steps will be taken to find the best parameters for the model."
   ]
  },
  {
   "cell_type": "markdown",
   "metadata": {},
   "source": [
    "## _**2. Confusion matrix of the model of Group A features:**_"
   ]
  },
  {
   "cell_type": "code",
   "execution_count": 643,
   "metadata": {},
   "outputs": [
    {
     "data": {
      "image/png": "[encoded data removed]",
      "text/plain": [
       "<Figure size 800x600 with 2 Axes>"
      ]
     },
     "metadata": {},
     "output_type": "display_data"
    }
   ],
   "source": [
    "# visualize classificaion report for Group A using a heatmap\n",
    "conf_matrix_svm = confusion_matrix(y_test, b)\n",
    "plt.figure(figsize=(8, 6))\n",
    "sns.heatmap(conf_matrix_svm, annot=True, cmap=\"Blues\", fmt=\"d\", xticklabels=class_labels, yticklabels=class_labels)\n",
    "plt.xlabel(\"Predicted Label\")\n",
    "plt.ylabel(\"True Label\")\n",
    "plt.title(\"Confusion Matrix - SVM Classifier\")\n",
    "plt.show()"
   ]
  },
  {
   "cell_type": "markdown",
   "metadata": {},
   "source": [
    "#### _**Conclusion:**_\n",
    "\n",
    "Upon examining the misclassifications, it is evident that the SVM model exhibits similar patterns to the KNN model. However, the frequency of misclassifications is notably lower with the SVM model compared to KNN. This is likely due to the fact SVM model better captures the underlying patterns in the data, resulting in improved performance."
   ]
  },
  {
   "cell_type": "markdown",
   "metadata": {},
   "source": [
    "## _**2. Cross Validation of the model of Group A features:**_"
   ]
  },
  {
   "cell_type": "markdown",
   "metadata": {},
   "source": [
    "We will use k-fold cross-validation to assess the performance of the kNN model. [This technique splits the dataset into k subsets (folds), trains the model on k-1 folds, and evaluates it on the remaining fold. This process is repeated k times, with each fold serving as the test set exactly once.](https://medium.com/analytics-vidhya/a-complete-guide-to-choose-the-correct-cross-validation-technique-d70810a02f27#:~:text=It%20is%20the,any%20(K%2D1))\n",
    "\n",
    "The choice of k-fold cross-validation is justified not only for its simplicity but also because it is suitable for datasets where the distribution of classes is (almost) evenly balanced. When examining the macro average and weighted average from the classification report, the similarity between these metrics suggests that the data is evenly distributed across different classes\n",
    "\n",
    "[A value of k=10 is very common in the field of applied machine learning, and is recommended when struggling to choose a value for the dataset.](https://towardsdatascience.com/cross-validation-explained-evaluating-estimator-performance-e51e5430ff85#:~:text=A%20value%20of%20k%3D10%20is%20very%20common%20in%20the%20field%20of%20applied%20machine%20learning%2C%20and%20is%20recommend%20if%20you%20are%20struggling%20to%20choose%20a%20value%20for%20your%20dataset.) And thus, we will use 10-fold cross-validation"
   ]
  },
  {
   "cell_type": "code",
   "execution_count": 644,
   "metadata": {},
   "outputs": [
    {
     "name": "stdout",
     "output_type": "stream",
     "text": [
      "SVM Cross Validation Scores: [0.94481236 0.9580574  0.96688742 0.9580574  0.9602649  0.97792494\n",
      " 0.98013245 0.96467991 0.9602649  0.96681416]\n",
      "SVM Cross Validation Mean Score: 0.9637895836996229\n",
      "SVM Cross Validation Standard Deviation: 0.00968056161631825\n"
     ]
    }
   ],
   "source": [
    "scores = cross_val_score(svm_Group_A, X_Scaled, y, cv=10)\n",
    "print(f\"SVM Cross Validation Scores: {scores}\")\n",
    "print(f\"SVM Cross Validation Mean Score: {np.mean(scores)}\")\n",
    "print(f\"SVM Cross Validation Standard Deviation: {np.std(scores)}\")"
   ]
  },
  {
   "cell_type": "markdown",
   "metadata": {},
   "source": [
    ">> The mean score of 0.96 suggests that the model achieves reasonably good accuracy on average, while the low standard deviation of 0.00968 indicates that the model's performance is stable and reliable across different subsets of the data."
   ]
  },
  {
   "cell_type": "markdown",
   "metadata": {},
   "source": [
    "## _**4. Hyperparameter tuning using Group A features:**_"
   ]
  },
  {
   "cell_type": "markdown",
   "metadata": {},
   "source": [
    "[A machine learning model has two types of parameters, (internal) parameters that are tuned during training and hyperparameters that can be specified (manually) for better performance when we create an instance from a model. The process of specifying hyperparameters manually can be both time consuming and not optimal.](https://fhict.instructure.com/courses/13770/pages/hyperparameter-tuning#:~:text=A%20machine%20learning,can%20be%20specified%3A)"
   ]
  },
  {
   "cell_type": "markdown",
   "metadata": {},
   "source": [
    "We will use 'GridSearchCV' module from sklearn to perform hyperparameter tuning. "
   ]
  },
  {
   "cell_type": "code",
   "execution_count": 645,
   "metadata": {},
   "outputs": [],
   "source": [
    "from sklearn.model_selection import GridSearchCV"
   ]
  },
  {
   "cell_type": "markdown",
   "metadata": {},
   "source": [
    "As a starting point, we will use these parameters as parameters."
   ]
  },
  {
   "cell_type": "code",
   "execution_count": 646,
   "metadata": {},
   "outputs": [],
   "source": [
    "param_grid = {'C': [0.1, 1, 10, 100], 'gamma': [1, 0.1, 0.01, 0.001], 'kernel': ['rbf', 'poly', 'sigmoid']}"
   ]
  },
  {
   "cell_type": "markdown",
   "metadata": {},
   "source": [
    "We are using refit=True, which ensures that once the best hyperparameters are found, the model will be retrained on the entire dataset (both training and validation sets) using these optimal parameters. This helps in obtaining a final model that leverages all available data.\n",
    "\n",
    "The default cross-validation strategy in GridSearchCV is k-fold, with the default number of folds being 5. To maintain a reasonable training speed, we will use the default 5-fold cross-validation rather than increasing it to 10 folds during the grid search."
   ]
  },
  {
   "cell_type": "code",
   "execution_count": 647,
   "metadata": {},
   "outputs": [],
   "source": [
    "grid = GridSearchCV(SVC(), param_grid, refit=True, verbose=2)"
   ]
  },
  {
   "cell_type": "markdown",
   "metadata": {},
   "source": [
    "Since we scaled the features after splitting previously, we will perform it on the whole features."
   ]
  },
  {
   "cell_type": "code",
   "execution_count": 648,
   "metadata": {},
   "outputs": [],
   "source": [
    "X_scaled = StandardScaler().fit_transform(X)"
   ]
  },
  {
   "cell_type": "markdown",
   "metadata": {},
   "source": [
    "Next, we will perform the grid search using the scaled data"
   ]
  },
  {
   "cell_type": "code",
   "execution_count": 650,
   "metadata": {},
   "outputs": [
    {
     "name": "stdout",
     "output_type": "stream",
     "text": [
      "Fitting 5 folds for each of 48 candidates, totalling 240 fits\n",
      "[CV] END .........................C=0.1, gamma=1, kernel=rbf; total time=   3.6s\n",
      "[CV] END .........................C=0.1, gamma=1, kernel=rbf; total time=   3.8s\n",
      "[CV] END .........................C=0.1, gamma=1, kernel=rbf; total time=   3.6s\n",
      "[CV] END .........................C=0.1, gamma=1, kernel=rbf; total time=   3.6s\n",
      "[CV] END .........................C=0.1, gamma=1, kernel=rbf; total time=   3.9s\n",
      "[CV] END ........................C=0.1, gamma=1, kernel=poly; total time=   0.8s\n",
      "[CV] END ........................C=0.1, gamma=1, kernel=poly; total time=   0.8s\n",
      "[CV] END ........................C=0.1, gamma=1, kernel=poly; total time=   0.8s\n",
      "[CV] END ........................C=0.1, gamma=1, kernel=poly; total time=   1.0s\n",
      "[CV] END ........................C=0.1, gamma=1, kernel=poly; total time=   1.1s\n",
      "[CV] END .....................C=0.1, gamma=1, kernel=sigmoid; total time=   1.5s\n",
      "[CV] END .....................C=0.1, gamma=1, kernel=sigmoid; total time=   1.8s\n",
      "[CV] END .....................C=0.1, gamma=1, kernel=sigmoid; total time=   1.6s\n",
      "[CV] END .....................C=0.1, gamma=1, kernel=sigmoid; total time=   1.6s\n",
      "[CV] END .....................C=0.1, gamma=1, kernel=sigmoid; total time=   1.6s\n",
      "[CV] END .......................C=0.1, gamma=0.1, kernel=rbf; total time=   4.2s\n",
      "[CV] END .......................C=0.1, gamma=0.1, kernel=rbf; total time=   4.1s\n",
      "[CV] END .......................C=0.1, gamma=0.1, kernel=rbf; total time=   4.4s\n",
      "[CV] END .......................C=0.1, gamma=0.1, kernel=rbf; total time=   3.8s\n",
      "[CV] END .......................C=0.1, gamma=0.1, kernel=rbf; total time=   4.4s\n",
      "[CV] END ......................C=0.1, gamma=0.1, kernel=poly; total time=   0.7s\n",
      "[CV] END ......................C=0.1, gamma=0.1, kernel=poly; total time=   0.9s\n",
      "[CV] END ......................C=0.1, gamma=0.1, kernel=poly; total time=   0.9s\n",
      "[CV] END ......................C=0.1, gamma=0.1, kernel=poly; total time=   1.0s\n",
      "[CV] END ......................C=0.1, gamma=0.1, kernel=poly; total time=   0.9s\n",
      "[CV] END ...................C=0.1, gamma=0.1, kernel=sigmoid; total time=   1.7s\n",
      "[CV] END ...................C=0.1, gamma=0.1, kernel=sigmoid; total time=   1.9s\n",
      "[CV] END ...................C=0.1, gamma=0.1, kernel=sigmoid; total time=   1.5s\n",
      "[CV] END ...................C=0.1, gamma=0.1, kernel=sigmoid; total time=   1.9s\n",
      "[CV] END ...................C=0.1, gamma=0.1, kernel=sigmoid; total time=   1.8s\n",
      "[CV] END ......................C=0.1, gamma=0.01, kernel=rbf; total time=   1.7s\n",
      "[CV] END ......................C=0.1, gamma=0.01, kernel=rbf; total time=   1.8s\n",
      "[CV] END ......................C=0.1, gamma=0.01, kernel=rbf; total time=   1.9s\n",
      "[CV] END ......................C=0.1, gamma=0.01, kernel=rbf; total time=   2.0s\n",
      "[CV] END ......................C=0.1, gamma=0.01, kernel=rbf; total time=   1.7s\n",
      "[CV] END .....................C=0.1, gamma=0.01, kernel=poly; total time=   1.7s\n",
      "[CV] END .....................C=0.1, gamma=0.01, kernel=poly; total time=   1.8s\n",
      "[CV] END .....................C=0.1, gamma=0.01, kernel=poly; total time=   1.8s\n",
      "[CV] END .....................C=0.1, gamma=0.01, kernel=poly; total time=   1.6s\n",
      "[CV] END .....................C=0.1, gamma=0.01, kernel=poly; total time=   1.8s\n",
      "[CV] END ..................C=0.1, gamma=0.01, kernel=sigmoid; total time=   1.1s\n",
      "[CV] END ..................C=0.1, gamma=0.01, kernel=sigmoid; total time=   1.3s\n",
      "[CV] END ..................C=0.1, gamma=0.01, kernel=sigmoid; total time=   1.1s\n",
      "[CV] END ..................C=0.1, gamma=0.01, kernel=sigmoid; total time=   1.1s\n",
      "[CV] END ..................C=0.1, gamma=0.01, kernel=sigmoid; total time=   1.0s\n",
      "[CV] END .....................C=0.1, gamma=0.001, kernel=rbf; total time=   2.4s\n",
      "[CV] END .....................C=0.1, gamma=0.001, kernel=rbf; total time=   2.3s\n",
      "[CV] END .....................C=0.1, gamma=0.001, kernel=rbf; total time=   2.2s\n",
      "[CV] END .....................C=0.1, gamma=0.001, kernel=rbf; total time=   2.7s\n",
      "[CV] END .....................C=0.1, gamma=0.001, kernel=rbf; total time=   2.1s\n",
      "[CV] END ....................C=0.1, gamma=0.001, kernel=poly; total time=   2.3s\n",
      "[CV] END ....................C=0.1, gamma=0.001, kernel=poly; total time=   2.5s\n",
      "[CV] END ....................C=0.1, gamma=0.001, kernel=poly; total time=   2.7s\n",
      "[CV] END ....................C=0.1, gamma=0.001, kernel=poly; total time=   2.4s\n",
      "[CV] END ....................C=0.1, gamma=0.001, kernel=poly; total time=   2.4s\n",
      "[CV] END .................C=0.1, gamma=0.001, kernel=sigmoid; total time=   2.2s\n",
      "[CV] END .................C=0.1, gamma=0.001, kernel=sigmoid; total time=   2.3s\n",
      "[CV] END .................C=0.1, gamma=0.001, kernel=sigmoid; total time=   2.1s\n",
      "[CV] END .................C=0.1, gamma=0.001, kernel=sigmoid; total time=   1.9s\n",
      "[CV] END .................C=0.1, gamma=0.001, kernel=sigmoid; total time=   2.0s\n",
      "[CV] END ...........................C=1, gamma=1, kernel=rbf; total time=   4.5s\n",
      "[CV] END ...........................C=1, gamma=1, kernel=rbf; total time=   3.7s\n",
      "[CV] END ...........................C=1, gamma=1, kernel=rbf; total time=   4.1s\n",
      "[CV] END ...........................C=1, gamma=1, kernel=rbf; total time=   4.5s\n",
      "[CV] END ...........................C=1, gamma=1, kernel=rbf; total time=   4.6s\n",
      "[CV] END ..........................C=1, gamma=1, kernel=poly; total time=   0.9s\n",
      "[CV] END ..........................C=1, gamma=1, kernel=poly; total time=   0.7s\n",
      "[CV] END ..........................C=1, gamma=1, kernel=poly; total time=   0.9s\n",
      "[CV] END ..........................C=1, gamma=1, kernel=poly; total time=   0.9s\n",
      "[CV] END ..........................C=1, gamma=1, kernel=poly; total time=   1.0s\n",
      "[CV] END .......................C=1, gamma=1, kernel=sigmoid; total time=   1.1s\n",
      "[CV] END .......................C=1, gamma=1, kernel=sigmoid; total time=   1.3s\n",
      "[CV] END .......................C=1, gamma=1, kernel=sigmoid; total time=   1.1s\n",
      "[CV] END .......................C=1, gamma=1, kernel=sigmoid; total time=   1.2s\n",
      "[CV] END .......................C=1, gamma=1, kernel=sigmoid; total time=   1.4s\n",
      "[CV] END .........................C=1, gamma=0.1, kernel=rbf; total time=   4.5s\n",
      "[CV] END .........................C=1, gamma=0.1, kernel=rbf; total time=   4.1s\n",
      "[CV] END .........................C=1, gamma=0.1, kernel=rbf; total time=   4.6s\n",
      "[CV] END .........................C=1, gamma=0.1, kernel=rbf; total time=   4.5s\n",
      "[CV] END .........................C=1, gamma=0.1, kernel=rbf; total time=   4.5s\n",
      "[CV] END ........................C=1, gamma=0.1, kernel=poly; total time=   0.9s\n",
      "[CV] END ........................C=1, gamma=0.1, kernel=poly; total time=   1.0s\n",
      "[CV] END ........................C=1, gamma=0.1, kernel=poly; total time=   0.9s\n",
      "[CV] END ........................C=1, gamma=0.1, kernel=poly; total time=   0.8s\n",
      "[CV] END ........................C=1, gamma=0.1, kernel=poly; total time=   1.0s\n",
      "[CV] END .....................C=1, gamma=0.1, kernel=sigmoid; total time=   1.6s\n",
      "[CV] END .....................C=1, gamma=0.1, kernel=sigmoid; total time=   1.1s\n",
      "[CV] END .....................C=1, gamma=0.1, kernel=sigmoid; total time=   1.7s\n",
      "[CV] END .....................C=1, gamma=0.1, kernel=sigmoid; total time=   1.6s\n",
      "[CV] END .....................C=1, gamma=0.1, kernel=sigmoid; total time=   1.4s\n",
      "[CV] END ........................C=1, gamma=0.01, kernel=rbf; total time=   0.8s\n",
      "[CV] END ........................C=1, gamma=0.01, kernel=rbf; total time=   0.8s\n",
      "[CV] END ........................C=1, gamma=0.01, kernel=rbf; total time=   1.3s\n",
      "[CV] END ........................C=1, gamma=0.01, kernel=rbf; total time=   1.2s\n",
      "[CV] END ........................C=1, gamma=0.01, kernel=rbf; total time=   1.1s\n",
      "[CV] END .......................C=1, gamma=0.01, kernel=poly; total time=   1.2s\n",
      "[CV] END .......................C=1, gamma=0.01, kernel=poly; total time=   1.0s\n",
      "[CV] END .......................C=1, gamma=0.01, kernel=poly; total time=   1.2s\n",
      "[CV] END .......................C=1, gamma=0.01, kernel=poly; total time=   1.3s\n",
      "[CV] END .......................C=1, gamma=0.01, kernel=poly; total time=   1.2s\n",
      "[CV] END ....................C=1, gamma=0.01, kernel=sigmoid; total time=   0.8s\n",
      "[CV] END ....................C=1, gamma=0.01, kernel=sigmoid; total time=   0.8s\n",
      "[CV] END ....................C=1, gamma=0.01, kernel=sigmoid; total time=   0.6s\n",
      "[CV] END ....................C=1, gamma=0.01, kernel=sigmoid; total time=   0.4s\n",
      "[CV] END ....................C=1, gamma=0.01, kernel=sigmoid; total time=   0.4s\n",
      "[CV] END .......................C=1, gamma=0.001, kernel=rbf; total time=   1.2s\n",
      "[CV] END .......................C=1, gamma=0.001, kernel=rbf; total time=   1.1s\n",
      "[CV] END .......................C=1, gamma=0.001, kernel=rbf; total time=   1.2s\n",
      "[CV] END .......................C=1, gamma=0.001, kernel=rbf; total time=   1.1s\n",
      "[CV] END .......................C=1, gamma=0.001, kernel=rbf; total time=   1.1s\n",
      "[CV] END ......................C=1, gamma=0.001, kernel=poly; total time=   2.3s\n",
      "[CV] END ......................C=1, gamma=0.001, kernel=poly; total time=   3.4s\n",
      "[CV] END ......................C=1, gamma=0.001, kernel=poly; total time=   2.6s\n",
      "[CV] END ......................C=1, gamma=0.001, kernel=poly; total time=   2.7s\n",
      "[CV] END ......................C=1, gamma=0.001, kernel=poly; total time=   2.7s\n",
      "[CV] END ...................C=1, gamma=0.001, kernel=sigmoid; total time=   1.6s\n",
      "[CV] END ...................C=1, gamma=0.001, kernel=sigmoid; total time=   1.1s\n",
      "[CV] END ...................C=1, gamma=0.001, kernel=sigmoid; total time=   1.0s\n",
      "[CV] END ...................C=1, gamma=0.001, kernel=sigmoid; total time=   1.0s\n",
      "[CV] END ...................C=1, gamma=0.001, kernel=sigmoid; total time=   1.0s\n",
      "[CV] END ..........................C=10, gamma=1, kernel=rbf; total time=   4.7s\n",
      "[CV] END ..........................C=10, gamma=1, kernel=rbf; total time=   4.2s\n",
      "[CV] END ..........................C=10, gamma=1, kernel=rbf; total time=   4.0s\n",
      "[CV] END ..........................C=10, gamma=1, kernel=rbf; total time=   3.9s\n",
      "[CV] END ..........................C=10, gamma=1, kernel=rbf; total time=   4.2s\n",
      "[CV] END .........................C=10, gamma=1, kernel=poly; total time=   0.9s\n",
      "[CV] END .........................C=10, gamma=1, kernel=poly; total time=   0.8s\n",
      "[CV] END .........................C=10, gamma=1, kernel=poly; total time=   0.8s\n",
      "[CV] END .........................C=10, gamma=1, kernel=poly; total time=   0.7s\n",
      "[CV] END .........................C=10, gamma=1, kernel=poly; total time=   0.7s\n",
      "[CV] END ......................C=10, gamma=1, kernel=sigmoid; total time=   1.4s\n",
      "[CV] END ......................C=10, gamma=1, kernel=sigmoid; total time=   1.4s\n",
      "[CV] END ......................C=10, gamma=1, kernel=sigmoid; total time=   1.1s\n",
      "[CV] END ......................C=10, gamma=1, kernel=sigmoid; total time=   1.3s\n",
      "[CV] END ......................C=10, gamma=1, kernel=sigmoid; total time=   1.2s\n",
      "[CV] END ........................C=10, gamma=0.1, kernel=rbf; total time=   4.1s\n",
      "[CV] END ........................C=10, gamma=0.1, kernel=rbf; total time=   4.1s\n",
      "[CV] END ........................C=10, gamma=0.1, kernel=rbf; total time=   4.8s\n",
      "[CV] END ........................C=10, gamma=0.1, kernel=rbf; total time=   4.2s\n",
      "[CV] END ........................C=10, gamma=0.1, kernel=rbf; total time=   4.4s\n",
      "[CV] END .......................C=10, gamma=0.1, kernel=poly; total time=   0.7s\n",
      "[CV] END .......................C=10, gamma=0.1, kernel=poly; total time=   0.8s\n",
      "[CV] END .......................C=10, gamma=0.1, kernel=poly; total time=   0.9s\n",
      "[CV] END .......................C=10, gamma=0.1, kernel=poly; total time=   1.0s\n",
      "[CV] END .......................C=10, gamma=0.1, kernel=poly; total time=   1.0s\n",
      "[CV] END ....................C=10, gamma=0.1, kernel=sigmoid; total time=   1.6s\n",
      "[CV] END ....................C=10, gamma=0.1, kernel=sigmoid; total time=   1.9s\n",
      "[CV] END ....................C=10, gamma=0.1, kernel=sigmoid; total time=   1.4s\n",
      "[CV] END ....................C=10, gamma=0.1, kernel=sigmoid; total time=   1.4s\n",
      "[CV] END ....................C=10, gamma=0.1, kernel=sigmoid; total time=   1.5s\n",
      "[CV] END .......................C=10, gamma=0.01, kernel=rbf; total time=   1.1s\n",
      "[CV] END .......................C=10, gamma=0.01, kernel=rbf; total time=   1.2s\n",
      "[CV] END .......................C=10, gamma=0.01, kernel=rbf; total time=   1.2s\n",
      "[CV] END .......................C=10, gamma=0.01, kernel=rbf; total time=   1.0s\n",
      "[CV] END .......................C=10, gamma=0.01, kernel=rbf; total time=   0.9s\n",
      "[CV] END ......................C=10, gamma=0.01, kernel=poly; total time=   1.0s\n",
      "[CV] END ......................C=10, gamma=0.01, kernel=poly; total time=   1.1s\n",
      "[CV] END ......................C=10, gamma=0.01, kernel=poly; total time=   1.1s\n",
      "[CV] END ......................C=10, gamma=0.01, kernel=poly; total time=   1.0s\n",
      "[CV] END ......................C=10, gamma=0.01, kernel=poly; total time=   0.9s\n",
      "[CV] END ...................C=10, gamma=0.01, kernel=sigmoid; total time=   0.2s\n",
      "[CV] END ...................C=10, gamma=0.01, kernel=sigmoid; total time=   0.2s\n",
      "[CV] END ...................C=10, gamma=0.01, kernel=sigmoid; total time=   0.3s\n",
      "[CV] END ...................C=10, gamma=0.01, kernel=sigmoid; total time=   0.2s\n",
      "[CV] END ...................C=10, gamma=0.01, kernel=sigmoid; total time=   0.2s\n",
      "[CV] END ......................C=10, gamma=0.001, kernel=rbf; total time=   0.4s\n",
      "[CV] END ......................C=10, gamma=0.001, kernel=rbf; total time=   0.6s\n",
      "[CV] END ......................C=10, gamma=0.001, kernel=rbf; total time=   0.5s\n",
      "[CV] END ......................C=10, gamma=0.001, kernel=rbf; total time=   0.6s\n",
      "[CV] END ......................C=10, gamma=0.001, kernel=rbf; total time=   0.6s\n",
      "[CV] END .....................C=10, gamma=0.001, kernel=poly; total time=   2.3s\n",
      "[CV] END .....................C=10, gamma=0.001, kernel=poly; total time=   2.5s\n",
      "[CV] END .....................C=10, gamma=0.001, kernel=poly; total time=   2.3s\n",
      "[CV] END .....................C=10, gamma=0.001, kernel=poly; total time=   3.2s\n",
      "[CV] END .....................C=10, gamma=0.001, kernel=poly; total time=   2.6s\n",
      "[CV] END ..................C=10, gamma=0.001, kernel=sigmoid; total time=   0.6s\n",
      "[CV] END ..................C=10, gamma=0.001, kernel=sigmoid; total time=   0.6s\n",
      "[CV] END ..................C=10, gamma=0.001, kernel=sigmoid; total time=   0.5s\n",
      "[CV] END ..................C=10, gamma=0.001, kernel=sigmoid; total time=   0.5s\n",
      "[CV] END ..................C=10, gamma=0.001, kernel=sigmoid; total time=   0.4s\n",
      "[CV] END .........................C=100, gamma=1, kernel=rbf; total time=   4.8s\n",
      "[CV] END .........................C=100, gamma=1, kernel=rbf; total time=   5.1s\n",
      "[CV] END .........................C=100, gamma=1, kernel=rbf; total time=   5.1s\n",
      "[CV] END .........................C=100, gamma=1, kernel=rbf; total time=   4.4s\n",
      "[CV] END .........................C=100, gamma=1, kernel=rbf; total time=   6.0s\n",
      "[CV] END ........................C=100, gamma=1, kernel=poly; total time=   1.3s\n",
      "[CV] END ........................C=100, gamma=1, kernel=poly; total time=   1.5s\n",
      "[CV] END ........................C=100, gamma=1, kernel=poly; total time=   1.0s\n",
      "[CV] END ........................C=100, gamma=1, kernel=poly; total time=   1.4s\n",
      "[CV] END ........................C=100, gamma=1, kernel=poly; total time=   1.0s\n",
      "[CV] END .....................C=100, gamma=1, kernel=sigmoid; total time=   1.9s\n",
      "[CV] END .....................C=100, gamma=1, kernel=sigmoid; total time=   1.6s\n",
      "[CV] END .....................C=100, gamma=1, kernel=sigmoid; total time=   1.7s\n",
      "[CV] END .....................C=100, gamma=1, kernel=sigmoid; total time=   1.4s\n",
      "[CV] END .....................C=100, gamma=1, kernel=sigmoid; total time=   1.5s\n",
      "[CV] END .......................C=100, gamma=0.1, kernel=rbf; total time=   5.1s\n",
      "[CV] END .......................C=100, gamma=0.1, kernel=rbf; total time=   4.9s\n",
      "[CV] END .......................C=100, gamma=0.1, kernel=rbf; total time=   4.3s\n",
      "[CV] END .......................C=100, gamma=0.1, kernel=rbf; total time=   3.7s\n",
      "[CV] END .......................C=100, gamma=0.1, kernel=rbf; total time=   3.5s\n",
      "[CV] END ......................C=100, gamma=0.1, kernel=poly; total time=   0.6s\n",
      "[CV] END ......................C=100, gamma=0.1, kernel=poly; total time=   0.8s\n",
      "[CV] END ......................C=100, gamma=0.1, kernel=poly; total time=   0.8s\n",
      "[CV] END ......................C=100, gamma=0.1, kernel=poly; total time=   0.7s\n",
      "[CV] END ......................C=100, gamma=0.1, kernel=poly; total time=   0.8s\n",
      "[CV] END ...................C=100, gamma=0.1, kernel=sigmoid; total time=   1.2s\n",
      "[CV] END ...................C=100, gamma=0.1, kernel=sigmoid; total time=   1.1s\n",
      "[CV] END ...................C=100, gamma=0.1, kernel=sigmoid; total time=   1.2s\n",
      "[CV] END ...................C=100, gamma=0.1, kernel=sigmoid; total time=   1.3s\n",
      "[CV] END ...................C=100, gamma=0.1, kernel=sigmoid; total time=   1.1s\n",
      "[CV] END ......................C=100, gamma=0.01, kernel=rbf; total time=   0.7s\n",
      "[CV] END ......................C=100, gamma=0.01, kernel=rbf; total time=   0.7s\n",
      "[CV] END ......................C=100, gamma=0.01, kernel=rbf; total time=   0.8s\n",
      "[CV] END ......................C=100, gamma=0.01, kernel=rbf; total time=   0.8s\n",
      "[CV] END ......................C=100, gamma=0.01, kernel=rbf; total time=   0.7s\n",
      "[CV] END .....................C=100, gamma=0.01, kernel=poly; total time=   0.8s\n",
      "[CV] END .....................C=100, gamma=0.01, kernel=poly; total time=   0.7s\n",
      "[CV] END .....................C=100, gamma=0.01, kernel=poly; total time=   0.8s\n",
      "[CV] END .....................C=100, gamma=0.01, kernel=poly; total time=   0.7s\n",
      "[CV] END .....................C=100, gamma=0.01, kernel=poly; total time=   0.9s\n",
      "[CV] END ..................C=100, gamma=0.01, kernel=sigmoid; total time=   0.1s\n",
      "[CV] END ..................C=100, gamma=0.01, kernel=sigmoid; total time=   0.2s\n",
      "[CV] END ..................C=100, gamma=0.01, kernel=sigmoid; total time=   0.1s\n",
      "[CV] END ..................C=100, gamma=0.01, kernel=sigmoid; total time=   0.2s\n",
      "[CV] END ..................C=100, gamma=0.01, kernel=sigmoid; total time=   0.2s\n",
      "[CV] END .....................C=100, gamma=0.001, kernel=rbf; total time=   0.4s\n",
      "[CV] END .....................C=100, gamma=0.001, kernel=rbf; total time=   0.3s\n",
      "[CV] END .....................C=100, gamma=0.001, kernel=rbf; total time=   0.3s\n",
      "[CV] END .....................C=100, gamma=0.001, kernel=rbf; total time=   0.4s\n",
      "[CV] END .....................C=100, gamma=0.001, kernel=rbf; total time=   0.3s\n",
      "[CV] END ....................C=100, gamma=0.001, kernel=poly; total time=   1.5s\n",
      "[CV] END ....................C=100, gamma=0.001, kernel=poly; total time=   1.3s\n",
      "[CV] END ....................C=100, gamma=0.001, kernel=poly; total time=   1.3s\n",
      "[CV] END ....................C=100, gamma=0.001, kernel=poly; total time=   1.4s\n",
      "[CV] END ....................C=100, gamma=0.001, kernel=poly; total time=   1.4s\n",
      "[CV] END .................C=100, gamma=0.001, kernel=sigmoid; total time=   0.2s\n",
      "[CV] END .................C=100, gamma=0.001, kernel=sigmoid; total time=   0.3s\n",
      "[CV] END .................C=100, gamma=0.001, kernel=sigmoid; total time=   0.3s\n",
      "[CV] END .................C=100, gamma=0.001, kernel=sigmoid; total time=   0.3s\n",
      "[CV] END .................C=100, gamma=0.001, kernel=sigmoid; total time=   0.3s\n"
     ]
    },
    {
     "data": {
      "text/html": [
       "<style>#sk-container-id-18 {color: black;}#sk-container-id-18 pre{padding: 0;}#sk-container-id-18 div.sk-toggleable {background-color: white;}#sk-container-id-18 label.sk-toggleable__label {cursor: pointer;display: block;width: 100%;margin-bottom: 0;padding: 0.3em;box-sizing: border-box;text-align: center;}#sk-container-id-18 label.sk-toggleable__label-arrow:before {content: \"▸\";float: left;margin-right: 0.25em;color: #696969;}#sk-container-id-18 label.sk-toggleable__label-arrow:hover:before {color: black;}#sk-container-id-18 div.sk-estimator:hover label.sk-toggleable__label-arrow:before {color: black;}#sk-container-id-18 div.sk-toggleable__content {max-height: 0;max-width: 0;overflow: hidden;text-align: left;background-color: #f0f8ff;}#sk-container-id-18 div.sk-toggleable__content pre {margin: 0.2em;color: black;border-radius: 0.25em;background-color: #f0f8ff;}#sk-container-id-18 input.sk-toggleable__control:checked~div.sk-toggleable__content {max-height: 200px;max-width: 100%;overflow: auto;}#sk-container-id-18 input.sk-toggleable__control:checked~label.sk-toggleable__label-arrow:before {content: \"▾\";}#sk-container-id-18 div.sk-estimator input.sk-toggleable__control:checked~label.sk-toggleable__label {background-color: #d4ebff;}#sk-container-id-18 div.sk-label input.sk-toggleable__control:checked~label.sk-toggleable__label {background-color: #d4ebff;}#sk-container-id-18 input.sk-hidden--visually {border: 0;clip: rect(1px 1px 1px 1px);clip: rect(1px, 1px, 1px, 1px);height: 1px;margin: -1px;overflow: hidden;padding: 0;position: absolute;width: 1px;}#sk-container-id-18 div.sk-estimator {font-family: monospace;background-color: #f0f8ff;border: 1px dotted black;border-radius: 0.25em;box-sizing: border-box;margin-bottom: 0.5em;}#sk-container-id-18 div.sk-estimator:hover {background-color: #d4ebff;}#sk-container-id-18 div.sk-parallel-item::after {content: \"\";width: 100%;border-bottom: 1px solid gray;flex-grow: 1;}#sk-container-id-18 div.sk-label:hover label.sk-toggleable__label {background-color: #d4ebff;}#sk-container-id-18 div.sk-serial::before {content: \"\";position: absolute;border-left: 1px solid gray;box-sizing: border-box;top: 0;bottom: 0;left: 50%;z-index: 0;}#sk-container-id-18 div.sk-serial {display: flex;flex-direction: column;align-items: center;background-color: white;padding-right: 0.2em;padding-left: 0.2em;position: relative;}#sk-container-id-18 div.sk-item {position: relative;z-index: 1;}#sk-container-id-18 div.sk-parallel {display: flex;align-items: stretch;justify-content: center;background-color: white;position: relative;}#sk-container-id-18 div.sk-item::before, #sk-container-id-18 div.sk-parallel-item::before {content: \"\";position: absolute;border-left: 1px solid gray;box-sizing: border-box;top: 0;bottom: 0;left: 50%;z-index: -1;}#sk-container-id-18 div.sk-parallel-item {display: flex;flex-direction: column;z-index: 1;position: relative;background-color: white;}#sk-container-id-18 div.sk-parallel-item:first-child::after {align-self: flex-end;width: 50%;}#sk-container-id-18 div.sk-parallel-item:last-child::after {align-self: flex-start;width: 50%;}#sk-container-id-18 div.sk-parallel-item:only-child::after {width: 0;}#sk-container-id-18 div.sk-dashed-wrapped {border: 1px dashed gray;margin: 0 0.4em 0.5em 0.4em;box-sizing: border-box;padding-bottom: 0.4em;background-color: white;}#sk-container-id-18 div.sk-label label {font-family: monospace;font-weight: bold;display: inline-block;line-height: 1.2em;}#sk-container-id-18 div.sk-label-container {text-align: center;}#sk-container-id-18 div.sk-container {/* jupyter's `normalize.less` sets `[hidden] { display: none; }` but bootstrap.min.css set `[hidden] { display: none !important; }` so we also need the `!important` here to be able to override the default hidden behavior on the sphinx rendered scikit-learn.org. See: https://github.com/scikit-learn/scikit-learn/issues/21755 */display: inline-block !important;position: relative;}#sk-container-id-18 div.sk-text-repr-fallback {display: none;}</style><div id=\"sk-container-id-18\" class=\"sk-top-container\"><div class=\"sk-text-repr-fallback\"><pre>GridSearchCV(estimator=SVC(),\n",
       "             param_grid={&#x27;C&#x27;: [0.1, 1, 10, 100], &#x27;gamma&#x27;: [1, 0.1, 0.01, 0.001],\n",
       "                         &#x27;kernel&#x27;: [&#x27;rbf&#x27;, &#x27;poly&#x27;, &#x27;sigmoid&#x27;]},\n",
       "             verbose=2)</pre><b>In a Jupyter environment, please rerun this cell to show the HTML representation or trust the notebook. <br />On GitHub, the HTML representation is unable to render, please try loading this page with nbviewer.org.</b></div><div class=\"sk-container\" hidden><div class=\"sk-item sk-dashed-wrapped\"><div class=\"sk-label-container\"><div class=\"sk-label sk-toggleable\"><input class=\"sk-toggleable__control sk-hidden--visually\" id=\"sk-estimator-id-20\" type=\"checkbox\" ><label for=\"sk-estimator-id-20\" class=\"sk-toggleable__label sk-toggleable__label-arrow\">GridSearchCV</label><div class=\"sk-toggleable__content\"><pre>GridSearchCV(estimator=SVC(),\n",
       "             param_grid={&#x27;C&#x27;: [0.1, 1, 10, 100], &#x27;gamma&#x27;: [1, 0.1, 0.01, 0.001],\n",
       "                         &#x27;kernel&#x27;: [&#x27;rbf&#x27;, &#x27;poly&#x27;, &#x27;sigmoid&#x27;]},\n",
       "             verbose=2)</pre></div></div></div><div class=\"sk-parallel\"><div class=\"sk-parallel-item\"><div class=\"sk-item\"><div class=\"sk-label-container\"><div class=\"sk-label sk-toggleable\"><input class=\"sk-toggleable__control sk-hidden--visually\" id=\"sk-estimator-id-21\" type=\"checkbox\" ><label for=\"sk-estimator-id-21\" class=\"sk-toggleable__label sk-toggleable__label-arrow\">estimator: SVC</label><div class=\"sk-toggleable__content\"><pre>SVC()</pre></div></div></div><div class=\"sk-serial\"><div class=\"sk-item\"><div class=\"sk-estimator sk-toggleable\"><input class=\"sk-toggleable__control sk-hidden--visually\" id=\"sk-estimator-id-22\" type=\"checkbox\" ><label for=\"sk-estimator-id-22\" class=\"sk-toggleable__label sk-toggleable__label-arrow\">SVC</label><div class=\"sk-toggleable__content\"><pre>SVC()</pre></div></div></div></div></div></div></div></div></div></div>"
      ],
      "text/plain": [
       "GridSearchCV(estimator=SVC(),\n",
       "             param_grid={'C': [0.1, 1, 10, 100], 'gamma': [1, 0.1, 0.01, 0.001],\n",
       "                         'kernel': ['rbf', 'poly', 'sigmoid']},\n",
       "             verbose=2)"
      ]
     },
     "execution_count": 650,
     "metadata": {},
     "output_type": "execute_result"
    }
   ],
   "source": [
    "grid.fit(X_scaled, y)"
   ]
  },
  {
   "cell_type": "code",
   "execution_count": 654,
   "metadata": {},
   "outputs": [
    {
     "name": "stdout",
     "output_type": "stream",
     "text": [
      "The best parameters are: \n",
      "{'C': 100, 'gamma': 0.001, 'kernel': 'sigmoid'}\n"
     ]
    }
   ],
   "source": [
    "print(\"The best parameters are: \")\n",
    "print(grid.best_params_)"
   ]
  },
  {
   "cell_type": "code",
   "execution_count": 655,
   "metadata": {},
   "outputs": [],
   "source": [
    "grid_predictions = grid.predict(X_Group_A_test_scaled)"
   ]
  },
  {
   "cell_type": "code",
   "execution_count": 656,
   "metadata": {},
   "outputs": [
    {
     "name": "stdout",
     "output_type": "stream",
     "text": [
      "Accuracy Score of the SVM model with the best parameters: \n",
      "\n",
      "0.9889624724061811\n"
     ]
    }
   ],
   "source": [
    "print(\"Accuracy Score of the SVM model with the best parameters: \\n\")\n",
    "print(accuracy_score(y_test, grid_predictions))"
   ]
  },
  {
   "cell_type": "code",
   "execution_count": 657,
   "metadata": {},
   "outputs": [
    {
     "name": "stdout",
     "output_type": "stream",
     "text": [
      "Classification Report of the SVM model with the best parameters: \n",
      "\n",
      "              precision    recall  f1-score   support\n",
      "\n",
      "           0       0.99      0.98      0.98       153\n",
      "           1       0.99      1.00      0.99       162\n",
      "           2       0.99      0.99      0.99       336\n",
      "           3       0.99      0.99      0.99       255\n",
      "\n",
      "    accuracy                           0.99       906\n",
      "   macro avg       0.99      0.99      0.99       906\n",
      "weighted avg       0.99      0.99      0.99       906\n",
      "\n"
     ]
    }
   ],
   "source": [
    "print(\"Classification Report of the SVM model with the best parameters: \\n\")\n",
    "print(classification_report(y_test, grid_predictions))"
   ]
  },
  {
   "cell_type": "code",
   "execution_count": 658,
   "metadata": {},
   "outputs": [
    {
     "name": "stdout",
     "output_type": "stream",
     "text": [
      "Confusion Matrix of the SVM model with the best parameters: \n",
      "\n",
      "[[150   0   3   0]\n",
      " [  0 162   0   0]\n",
      " [  2   0 331   3]\n",
      " [  0   2   0 253]]\n"
     ]
    }
   ],
   "source": [
    "print(\"Confusion Matrix of the SVM model with the best parameters: \\n\")\n",
    "print(confusion_matrix(y_test, grid_predictions))"
   ]
  },
  {
   "cell_type": "markdown",
   "metadata": {},
   "source": [
    "#### _**Conclusion**_\n",
    "\n",
    "Based on the classification report and correlation matrix, it can be concluded there is no need to improvize to parameters to perform GridSearch again. Thus the model can be saved."
   ]
  },
  {
   "cell_type": "code",
   "execution_count": 661,
   "metadata": {},
   "outputs": [
    {
     "data": {
      "text/plain": [
       "['final_model.pkl']"
      ]
     },
     "execution_count": 661,
     "metadata": {},
     "output_type": "execute_result"
    }
   ],
   "source": [
    "import joblib\n",
    "joblib.dump(grid.best_estimator_, 'final_model.pkl')"
   ]
  }
 ],
 "metadata": {
  "kernelspec": {
   "display_name": "Python 3",
   "language": "python",
   "name": "python3"
  },
  "language_info": {
   "codemirror_mode": {
    "name": "ipython",
    "version": 3
   },
   "file_extension": ".py",
   "mimetype": "text/x-python",
   "name": "python",
   "nbconvert_exporter": "python",
   "pygments_lexer": "ipython3",
   "version": "3.11.8"
  }
 },
 "nbformat": 4,
 "nbformat_minor": 2
}
