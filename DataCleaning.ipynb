{
 "cells": [
  {
   "cell_type": "code",
   "execution_count": 3,
   "metadata": {},
   "outputs": [
    {
     "name": "stdout",
     "output_type": "stream",
     "text": [
      "      idll_vo3lv  cito   school  gender\n",
      "1              3   518  vmbo kl       1\n",
      "4              6   524  vmbo bl       0\n",
      "6              8   529  vmbo bl       1\n",
      "9             11   533  vmbo kl       0\n",
      "11            13   534  vmbo kl       0\n",
      "...          ...   ...      ...     ...\n",
      "4227        9638   549      vwo       1\n",
      "4228        9640   543      vwo       0\n",
      "4231        9649   543      vwo       1\n",
      "4232        9656   543      vwo       0\n",
      "4234        9663   545      vwo       0\n",
      "\n",
      "[2214 rows x 4 columns]\n"
     ]
    }
   ],
   "source": [
    "import pandas as pd\n",
    "\n",
    "# data\n",
    "data = pd.read_csv('Data/eindtoets.csv', sep=\";\")\n",
    "\n",
    "# DataFrame\n",
    "df = pd.DataFrame(data)\n",
    "\n",
    "# Cleaning data\n",
    "df['cito'] = df['cito'].replace('', pd.NA).astype('Int64')\n",
    "df['schooljaar'] = df['schooljaar'].replace('', pd.NA)\n",
    "df['gender'] = df['gender'].replace('', pd.NA).astype('Int64')\n",
    "\n",
    "# Filtering rows\n",
    "filtered_df = df.dropna(subset=['cito', 'school', 'gender'])\n",
    "\n",
    "# Output\n",
    "print(filtered_df[['idll_vo3lv', 'cito','school', 'gender']])"
   ]
  }
 ],
 "metadata": {
  "kernelspec": {
   "display_name": "Python 3",
   "language": "python",
   "name": "python3"
  },
  "language_info": {
   "codemirror_mode": {
    "name": "ipython",
    "version": 3
   },
   "file_extension": ".py",
   "mimetype": "text/x-python",
   "name": "python",
   "nbconvert_exporter": "python",
   "pygments_lexer": "ipython3",
   "version": "3.11.8"
  }
 },
 "nbformat": 4,
 "nbformat_minor": 2
}
