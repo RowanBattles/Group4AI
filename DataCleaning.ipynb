{
 "cells": [
  {
   "cell_type": "code",
   "execution_count": null,
   "metadata": {},
   "outputs": [],
   "source": [
    "import pandas as pd\n",
    "\n",
    "# data\n",
    "data = pd.read_csv('eindtoets.csv', sep=';')\n",
    "\n",
    "# DataFrame\n",
    "df = pd.DataFrame(data)\n",
    "\n",
    "# Cleaning data\n",
    "df['cito'] = df['cito'].replace('', pd.NA).astype('Int64')\n",
    "df['schooljaar'] = df['schooljaar'].replace('', pd.NA)\n",
    "df['gender'] = df['gender'].replace('', pd.NA).astype('Int64')\n",
    "\n",
    "# Filtering rows\n",
    "filtered_df = df.dropna(subset=['cito', 'school', 'gender'])\n",
    "\n",
    "# Output\n",
    "print(filtered_df[['idll_vo3lv', 'cito','school', 'gender']])"
   ]
  }
 ],
 "metadata": {
  "language_info": {
   "name": "python"
  }
 },
 "nbformat": 4,
 "nbformat_minor": 2
}
