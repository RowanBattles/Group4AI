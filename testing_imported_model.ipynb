{
 "cells": [
  {
   "cell_type": "code",
   "execution_count": 2,
   "metadata": {},
   "outputs": [
    {
     "name": "stderr",
     "output_type": "stream",
     "text": [
      "C:\\Users\\rowan\\AppData\\Local\\Temp\\ipykernel_21408\\955723370.py:3: DeprecationWarning: \n",
      "Pyarrow will become a required dependency of pandas in the next major release of pandas (pandas 3.0),\n",
      "(to allow more performant data types, such as the Arrow string type, and better interoperability with other libraries)\n",
      "but was not found to be installed on your system.\n",
      "If this would cause problems for you,\n",
      "please provide us feedback at https://github.com/pandas-dev/pandas/issues/54466\n",
      "        \n",
      "  import pandas as pd\n"
     ]
    },
    {
     "name": "stdout",
     "output_type": "stream",
     "text": [
      "Index(['pauses', 'unique_patterns_count', 'total_values_count', 'duplicates',\n",
      "       'empty_submissions', 'Box_1_Submission', 'Box_2_Submission',\n",
      "       'Box_3_Submission', 'Box_4_Submission', 'Box_5_Submission',\n",
      "       'Box_6_Submission', 'Box_7_Submission', 'Box_8_Submission',\n",
      "       'Box_9_Submission', 'Box_10_Submission', 'Box_11_Submission',\n",
      "       'Box_12_Submission', 'Box_13_Submission', 'Box_14_Submission',\n",
      "       'Box_15_Submission', 'Box_16_Submission', 'Box_17_Submission',\n",
      "       'Box_18_Submission', 'Box_1_Lines', 'Box_2_Lines', 'Box_3_Lines',\n",
      "       'Box_4_Lines', 'Box_5_Lines', 'Box_6_Lines', 'Box_7_Lines',\n",
      "       'Box_8_Lines', 'Box_9_Lines', 'Box_10_Lines', 'Box_11_Lines',\n",
      "       'Box_12_Lines', 'Box_13_Lines', 'Box_14_Lines', 'Box_15_Lines',\n",
      "       'Box_16_Lines', 'Box_17_Lines', 'Box_18_Lines', 'Box_1_Clicks',\n",
      "       'Box_2_Clicks', 'Box_3_Clicks', 'Box_4_Clicks', 'Box_5_Clicks',\n",
      "       'Box_6_Clicks', 'Box_7_Clicks', 'Box_8_Clicks', 'Box_9_Clicks',\n",
      "       'Box_10_Clicks', 'Box_11_Clicks', 'Box_12_Clicks', 'Box_13_Clicks',\n",
      "       'Box_14_Clicks', 'Box_15_Clicks', 'Box_16_Clicks', 'Box_17_Clicks',\n",
      "       'Box_18_Clicks', 'Box_1_Unclicks', 'Box_2_Unclicks', 'Box_3_Unclicks',\n",
      "       'Box_4_Unclicks', 'Box_5_Unclicks', 'Box_6_Unclicks', 'Box_7_Unclicks',\n",
      "       'Box_8_Unclicks', 'Box_9_Unclicks', 'Box_10_Unclicks',\n",
      "       'Box_11_Unclicks', 'Box_12_Unclicks', 'Box_13_Unclicks',\n",
      "       'Box_14_Unclicks', 'Box_15_Unclicks', 'Box_16_Unclicks',\n",
      "       'Box_17_Unclicks', 'Box_18_Unclicks', 'Box_1_Timegap', 'Box_2_Timegap',\n",
      "       'Box_3_Timegap', 'Box_4_Timegap', 'Box_5_Timegap', 'Box_6_Timegap',\n",
      "       'Box_7_Timegap', 'Box_8_Timegap', 'Box_9_Timegap', 'Box_10_Timegap',\n",
      "       'Box_11_Timegap', 'Box_12_Timegap', 'Box_13_Timegap', 'Box_14_Timegap',\n",
      "       'Box_15_Timegap', 'Box_16_Timegap', 'Box_17_Timegap', 'Box_18_Timegap'],\n",
      "      dtype='object')\n"
     ]
    },
    {
     "name": "stderr",
     "output_type": "stream",
     "text": [
      "c:\\Users\\rowan\\AppData\\Local\\Programs\\Python\\Python311\\Lib\\site-packages\\sklearn\\base.py:376: InconsistentVersionWarning: Trying to unpickle estimator SVC from version 1.3.0 when using version 1.4.1.post1. This might lead to breaking code or invalid results. Use at your own risk. For more info please refer to:\n",
      "https://scikit-learn.org/stable/model_persistence.html#security-maintainability-limitations\n",
      "  warnings.warn(\n",
      "c:\\Users\\rowan\\AppData\\Local\\Programs\\Python\\Python311\\Lib\\site-packages\\sklearn\\base.py:376: InconsistentVersionWarning: Trying to unpickle estimator StandardScaler from version 1.3.0 when using version 1.4.1.post1. This might lead to breaking code or invalid results. Use at your own risk. For more info please refer to:\n",
      "https://scikit-learn.org/stable/model_persistence.html#security-maintainability-limitations\n",
      "  warnings.warn(\n"
     ]
    }
   ],
   "source": [
    "# LOAD final model and predict on test data\n",
    "import numpy as np\n",
    "import pandas as pd\n",
    "import tensorflow as tf\n",
    "from tensorflow import keras\n",
    "from sklearn.metrics import confusion_matrix, classification_report\n",
    "import joblib\n",
    "\n",
    "\n",
    "# Load test data\n",
    "test_data = pd.read_csv('test.csv')\n",
    "\n",
    "# Load model final model.pkl\n",
    "\n",
    "model = joblib.load('final_model.pkl')\n",
    "\n",
    "# scale using scaler.pkl\n",
    "\n",
    "scaler = joblib.load('scaler.pkl')\n",
    "\n",
    "# scale\n",
    "print(test_data.columns)"
   ]
  },
  {
   "cell_type": "code",
   "execution_count": 3,
   "metadata": {},
   "outputs": [
    {
     "name": "stdout",
     "output_type": "stream",
     "text": [
      "[1]\n"
     ]
    }
   ],
   "source": [
    "X_test_scaled = scaler.transform(test_data)\n",
    "\n",
    "# predict\n",
    "y_pred = model.predict(X_test_scaled)\n",
    "\n",
    "print(y_pred)"
   ]
  },
  {
   "cell_type": "code",
   "execution_count": null,
   "metadata": {},
   "outputs": [],
   "source": []
  }
 ],
 "metadata": {
  "kernelspec": {
   "display_name": "Python 3",
   "language": "python",
   "name": "python3"
  },
  "language_info": {
   "codemirror_mode": {
    "name": "ipython",
    "version": 3
   },
   "file_extension": ".py",
   "mimetype": "text/x-python",
   "name": "python",
   "nbconvert_exporter": "python",
   "pygments_lexer": "ipython3",
   "version": "3.11.0"
  }
 },
 "nbformat": 4,
 "nbformat_minor": 2
}
