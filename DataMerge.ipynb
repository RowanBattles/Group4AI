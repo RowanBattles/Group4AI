{
 "cells": [
  {
   "cell_type": "code",
   "execution_count": 1,
   "metadata": {},
   "outputs": [
    {
     "name": "stdout",
     "output_type": "stream",
     "text": [
      "   student_id  pauses  unique_patterns_count  total_values_count  \\\n",
      "0           1       1                      5                  12   \n",
      "1           2      17                     26                  28   \n",
      "2           3       9                     38                  48   \n",
      "3           4       7                     54                  64   \n",
      "4           5       6                     48                  63   \n",
      "\n",
      "   total_non_zero_values_count  duplicates  \n",
      "0                            6           1  \n",
      "1                           28           2  \n",
      "2                           47           9  \n",
      "3                           62           8  \n",
      "4                           62          14  \n"
     ]
    }
   ],
   "source": [
    "import pandas as pd\n",
    "\n",
    "student_pause = pd.read_csv('Data/student_pause.csv')\n",
    "pattern_calculation = pd.read_csv('Data/pattern_calculation.csv')\n",
    "\n",
    "merged_data = pd.merge(student_pause, pattern_calculation, on='student_id')\n",
    "\n",
    "print(merged_data.head())"
   ]
  },
  {
   "cell_type": "code",
   "execution_count": 3,
   "metadata": {},
   "outputs": [],
   "source": [
    "merged_data = pd.DataFrame(merged_data)\n",
    "merged_data.to_csv(\"Data\\\\Merged_fivepointstest.csv\")"
   ]
  }
 ],
 "metadata": {
  "kernelspec": {
   "display_name": "Python 3",
   "language": "python",
   "name": "python3"
  },
  "language_info": {
   "codemirror_mode": {
    "name": "ipython",
    "version": 3
   },
   "file_extension": ".py",
   "mimetype": "text/x-python",
   "name": "python",
   "nbconvert_exporter": "python",
   "pygments_lexer": "ipython3",
   "version": "3.11.8"
  }
 },
 "nbformat": 4,
 "nbformat_minor": 2
}
